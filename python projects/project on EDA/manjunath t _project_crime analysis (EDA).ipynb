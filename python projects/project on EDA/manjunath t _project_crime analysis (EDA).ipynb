{
 "cells": [
  {
   "cell_type": "code",
   "execution_count": 87,
   "id": "707500ae",
   "metadata": {},
   "outputs": [],
   "source": [
    "import numpy as np\n",
    "import pandas as pd\n",
    "import matplotlib.pyplot as plt\n",
    "import seaborn as sns"
   ]
  },
  {
   "cell_type": "code",
   "execution_count": 88,
   "id": "06e48556",
   "metadata": {},
   "outputs": [],
   "source": [
    "df=pd.read_excel('crime_data.xlsx')"
   ]
  },
  {
   "cell_type": "code",
   "execution_count": 89,
   "id": "327dddfe",
   "metadata": {},
   "outputs": [
    {
     "data": {
      "text/html": [
       "<div>\n",
       "<style scoped>\n",
       "    .dataframe tbody tr th:only-of-type {\n",
       "        vertical-align: middle;\n",
       "    }\n",
       "\n",
       "    .dataframe tbody tr th {\n",
       "        vertical-align: top;\n",
       "    }\n",
       "\n",
       "    .dataframe thead th {\n",
       "        text-align: right;\n",
       "    }\n",
       "</style>\n",
       "<table border=\"1\" class=\"dataframe\">\n",
       "  <thead>\n",
       "    <tr style=\"text-align: right;\">\n",
       "      <th></th>\n",
       "      <th>ID</th>\n",
       "      <th>Case Number</th>\n",
       "      <th>Date</th>\n",
       "      <th>Block</th>\n",
       "      <th>UCR</th>\n",
       "      <th>Primary Type</th>\n",
       "      <th>Description</th>\n",
       "      <th>Location Description</th>\n",
       "      <th>Arrest</th>\n",
       "      <th>Domestic</th>\n",
       "      <th>...</th>\n",
       "      <th>Ward</th>\n",
       "      <th>Community Area</th>\n",
       "      <th>NIC Code</th>\n",
       "      <th>X Coordinate</th>\n",
       "      <th>Y Coordinate</th>\n",
       "      <th>Year</th>\n",
       "      <th>Updated On</th>\n",
       "      <th>Latitude</th>\n",
       "      <th>Longitude</th>\n",
       "      <th>Location</th>\n",
       "    </tr>\n",
       "  </thead>\n",
       "  <tbody>\n",
       "    <tr>\n",
       "      <th>0</th>\n",
       "      <td>11614273</td>\n",
       "      <td>JC174951</td>\n",
       "      <td>2017-01-01 00:00:00</td>\n",
       "      <td>018XX S CALIFORNIA AVE</td>\n",
       "      <td>1153</td>\n",
       "      <td>DECEPTIVE PRACTICE</td>\n",
       "      <td>FINANCIAL IDENTITY THEFT OVER $ 300</td>\n",
       "      <td>RESIDENCE</td>\n",
       "      <td>False</td>\n",
       "      <td>False</td>\n",
       "      <td>...</td>\n",
       "      <td>12.0</td>\n",
       "      <td>29</td>\n",
       "      <td>11</td>\n",
       "      <td>NaN</td>\n",
       "      <td>NaN</td>\n",
       "      <td>2017</td>\n",
       "      <td>2019-06-03 16:20:10</td>\n",
       "      <td>NaN</td>\n",
       "      <td>NaN</td>\n",
       "      <td>NaN</td>\n",
       "    </tr>\n",
       "    <tr>\n",
       "      <th>1</th>\n",
       "      <td>11622471</td>\n",
       "      <td>JC184902</td>\n",
       "      <td>2017-01-01 00:00:00</td>\n",
       "      <td>013XX S LAWNDALE AVE</td>\n",
       "      <td>1153</td>\n",
       "      <td>DECEPTIVE PRACTICE</td>\n",
       "      <td>FINANCIAL IDENTITY THEFT OVER $ 300</td>\n",
       "      <td>APARTMENT</td>\n",
       "      <td>False</td>\n",
       "      <td>False</td>\n",
       "      <td>...</td>\n",
       "      <td>24.0</td>\n",
       "      <td>29</td>\n",
       "      <td>11</td>\n",
       "      <td>NaN</td>\n",
       "      <td>NaN</td>\n",
       "      <td>2017</td>\n",
       "      <td>03/14/2019 04:07:17 PM</td>\n",
       "      <td>NaN</td>\n",
       "      <td>NaN</td>\n",
       "      <td>NaN</td>\n",
       "    </tr>\n",
       "    <tr>\n",
       "      <th>2</th>\n",
       "      <td>11255786</td>\n",
       "      <td>JB185271</td>\n",
       "      <td>2017-01-01 00:00:00</td>\n",
       "      <td>045XX N HAZEL ST</td>\n",
       "      <td>1155</td>\n",
       "      <td>DECEPTIVE PRACTICE</td>\n",
       "      <td>AGGRAVATED FINANCIAL IDENTITY THEFT</td>\n",
       "      <td>COMMERCIAL / BUSINESS OFFICE</td>\n",
       "      <td>False</td>\n",
       "      <td>False</td>\n",
       "      <td>...</td>\n",
       "      <td>46.0</td>\n",
       "      <td>3</td>\n",
       "      <td>11</td>\n",
       "      <td>NaN</td>\n",
       "      <td>NaN</td>\n",
       "      <td>2017</td>\n",
       "      <td>03/15/2018 03:55:29 PM</td>\n",
       "      <td>NaN</td>\n",
       "      <td>NaN</td>\n",
       "      <td>NaN</td>\n",
       "    </tr>\n",
       "    <tr>\n",
       "      <th>3</th>\n",
       "      <td>11259747</td>\n",
       "      <td>JB190580</td>\n",
       "      <td>2017-01-01 00:00:00</td>\n",
       "      <td>038XX W ARMITAGE AVE</td>\n",
       "      <td>1153</td>\n",
       "      <td>DECEPTIVE PRACTICE</td>\n",
       "      <td>FINANCIAL IDENTITY THEFT OVER $ 300</td>\n",
       "      <td>RESIDENCE</td>\n",
       "      <td>False</td>\n",
       "      <td>False</td>\n",
       "      <td>...</td>\n",
       "      <td>26.0</td>\n",
       "      <td>22</td>\n",
       "      <td>11</td>\n",
       "      <td>NaN</td>\n",
       "      <td>NaN</td>\n",
       "      <td>2017</td>\n",
       "      <td>03/19/2018 04:13:18 PM</td>\n",
       "      <td>NaN</td>\n",
       "      <td>NaN</td>\n",
       "      <td>NaN</td>\n",
       "    </tr>\n",
       "    <tr>\n",
       "      <th>4</th>\n",
       "      <td>11267468</td>\n",
       "      <td>JB195629</td>\n",
       "      <td>2017-01-01 00:00:00</td>\n",
       "      <td>017XX W HENDERSON ST</td>\n",
       "      <td>1752</td>\n",
       "      <td>OFFENSE INVOLVING CHILDREN</td>\n",
       "      <td>AGG CRIM SEX ABUSE FAM MEMBER</td>\n",
       "      <td>RESIDENCE</td>\n",
       "      <td>False</td>\n",
       "      <td>False</td>\n",
       "      <td>...</td>\n",
       "      <td>47.0</td>\n",
       "      <td>6</td>\n",
       "      <td>17</td>\n",
       "      <td>NaN</td>\n",
       "      <td>NaN</td>\n",
       "      <td>2017</td>\n",
       "      <td>08/23/2019 03:57:55 PM</td>\n",
       "      <td>NaN</td>\n",
       "      <td>NaN</td>\n",
       "      <td>NaN</td>\n",
       "    </tr>\n",
       "    <tr>\n",
       "      <th>...</th>\n",
       "      <td>...</td>\n",
       "      <td>...</td>\n",
       "      <td>...</td>\n",
       "      <td>...</td>\n",
       "      <td>...</td>\n",
       "      <td>...</td>\n",
       "      <td>...</td>\n",
       "      <td>...</td>\n",
       "      <td>...</td>\n",
       "      <td>...</td>\n",
       "      <td>...</td>\n",
       "      <td>...</td>\n",
       "      <td>...</td>\n",
       "      <td>...</td>\n",
       "      <td>...</td>\n",
       "      <td>...</td>\n",
       "      <td>...</td>\n",
       "      <td>...</td>\n",
       "      <td>...</td>\n",
       "      <td>...</td>\n",
       "      <td>...</td>\n",
       "    </tr>\n",
       "    <tr>\n",
       "      <th>247792</th>\n",
       "      <td>12781978</td>\n",
       "      <td>JF342485</td>\n",
       "      <td>2022-03-08 09:30:00</td>\n",
       "      <td>055XX S PRINCETON AVE</td>\n",
       "      <td>810</td>\n",
       "      <td>THEFT</td>\n",
       "      <td>OVER $500</td>\n",
       "      <td>STREET</td>\n",
       "      <td>False</td>\n",
       "      <td>False</td>\n",
       "      <td>...</td>\n",
       "      <td>3.0</td>\n",
       "      <td>68</td>\n",
       "      <td>6</td>\n",
       "      <td>NaN</td>\n",
       "      <td>NaN</td>\n",
       "      <td>2022</td>\n",
       "      <td>2023-02-01 15:48:34</td>\n",
       "      <td>NaN</td>\n",
       "      <td>NaN</td>\n",
       "      <td>NaN</td>\n",
       "    </tr>\n",
       "    <tr>\n",
       "      <th>247793</th>\n",
       "      <td>12785097</td>\n",
       "      <td>JF346135</td>\n",
       "      <td>2022-06-08 01:33:00</td>\n",
       "      <td>018XX S RACINE AVE</td>\n",
       "      <td>1310</td>\n",
       "      <td>CRIMINAL DAMAGE</td>\n",
       "      <td>TO PROPERTY</td>\n",
       "      <td>SIDEWALK</td>\n",
       "      <td>False</td>\n",
       "      <td>False</td>\n",
       "      <td>...</td>\n",
       "      <td>25.0</td>\n",
       "      <td>31</td>\n",
       "      <td>14</td>\n",
       "      <td>NaN</td>\n",
       "      <td>NaN</td>\n",
       "      <td>2022</td>\n",
       "      <td>2023-02-01 15:48:34</td>\n",
       "      <td>NaN</td>\n",
       "      <td>NaN</td>\n",
       "      <td>NaN</td>\n",
       "    </tr>\n",
       "    <tr>\n",
       "      <th>247794</th>\n",
       "      <td>12628303</td>\n",
       "      <td>JF156765</td>\n",
       "      <td>2022-07-02 05:13:00</td>\n",
       "      <td>061XX N HAMILTON AVE</td>\n",
       "      <td>2820</td>\n",
       "      <td>OTHER OFFENSE</td>\n",
       "      <td>TELEPHONE THREAT</td>\n",
       "      <td>APARTMENT</td>\n",
       "      <td>False</td>\n",
       "      <td>False</td>\n",
       "      <td>...</td>\n",
       "      <td>40.0</td>\n",
       "      <td>2</td>\n",
       "      <td>08A</td>\n",
       "      <td>NaN</td>\n",
       "      <td>NaN</td>\n",
       "      <td>2022</td>\n",
       "      <td>02/27/2022 03:48:47 PM</td>\n",
       "      <td>NaN</td>\n",
       "      <td>NaN</td>\n",
       "      <td>NaN</td>\n",
       "    </tr>\n",
       "    <tr>\n",
       "      <th>247795</th>\n",
       "      <td>12786940</td>\n",
       "      <td>JF348190</td>\n",
       "      <td>2022-07-08 03:20:00</td>\n",
       "      <td>011XX W LELAND AVE</td>\n",
       "      <td>1310</td>\n",
       "      <td>CRIMINAL DAMAGE</td>\n",
       "      <td>TO PROPERTY</td>\n",
       "      <td>RESIDENCE - PORCH / HALLWAY</td>\n",
       "      <td>False</td>\n",
       "      <td>False</td>\n",
       "      <td>...</td>\n",
       "      <td>46.0</td>\n",
       "      <td>3</td>\n",
       "      <td>14</td>\n",
       "      <td>NaN</td>\n",
       "      <td>NaN</td>\n",
       "      <td>2022</td>\n",
       "      <td>2023-02-01 15:48:34</td>\n",
       "      <td>NaN</td>\n",
       "      <td>NaN</td>\n",
       "      <td>NaN</td>\n",
       "    </tr>\n",
       "    <tr>\n",
       "      <th>247796</th>\n",
       "      <td>12788117</td>\n",
       "      <td>JF349683</td>\n",
       "      <td>2022-08-08 23:29:00</td>\n",
       "      <td>057XX S ABERDEEN ST</td>\n",
       "      <td>1365</td>\n",
       "      <td>CRIMINAL TRESPASS</td>\n",
       "      <td>TO RESIDENCE</td>\n",
       "      <td>RESIDENCE</td>\n",
       "      <td>False</td>\n",
       "      <td>True</td>\n",
       "      <td>...</td>\n",
       "      <td>16.0</td>\n",
       "      <td>68</td>\n",
       "      <td>26</td>\n",
       "      <td>NaN</td>\n",
       "      <td>NaN</td>\n",
       "      <td>2022</td>\n",
       "      <td>2023-02-01 15:48:34</td>\n",
       "      <td>NaN</td>\n",
       "      <td>NaN</td>\n",
       "      <td>NaN</td>\n",
       "    </tr>\n",
       "  </tbody>\n",
       "</table>\n",
       "<p>247797 rows × 22 columns</p>\n",
       "</div>"
      ],
      "text/plain": [
       "              ID Case Number                Date                   Block  \\\n",
       "0       11614273    JC174951 2017-01-01 00:00:00  018XX S CALIFORNIA AVE   \n",
       "1       11622471    JC184902 2017-01-01 00:00:00    013XX S LAWNDALE AVE   \n",
       "2       11255786    JB185271 2017-01-01 00:00:00        045XX N HAZEL ST   \n",
       "3       11259747    JB190580 2017-01-01 00:00:00    038XX W ARMITAGE AVE   \n",
       "4       11267468    JB195629 2017-01-01 00:00:00    017XX W HENDERSON ST   \n",
       "...          ...         ...                 ...                     ...   \n",
       "247792  12781978    JF342485 2022-03-08 09:30:00   055XX S PRINCETON AVE   \n",
       "247793  12785097    JF346135 2022-06-08 01:33:00      018XX S RACINE AVE   \n",
       "247794  12628303    JF156765 2022-07-02 05:13:00    061XX N HAMILTON AVE   \n",
       "247795  12786940    JF348190 2022-07-08 03:20:00      011XX W LELAND AVE   \n",
       "247796  12788117    JF349683 2022-08-08 23:29:00     057XX S ABERDEEN ST   \n",
       "\n",
       "         UCR                Primary Type                          Description  \\\n",
       "0       1153          DECEPTIVE PRACTICE  FINANCIAL IDENTITY THEFT OVER $ 300   \n",
       "1       1153          DECEPTIVE PRACTICE  FINANCIAL IDENTITY THEFT OVER $ 300   \n",
       "2       1155          DECEPTIVE PRACTICE  AGGRAVATED FINANCIAL IDENTITY THEFT   \n",
       "3       1153          DECEPTIVE PRACTICE  FINANCIAL IDENTITY THEFT OVER $ 300   \n",
       "4       1752  OFFENSE INVOLVING CHILDREN        AGG CRIM SEX ABUSE FAM MEMBER   \n",
       "...      ...                         ...                                  ...   \n",
       "247792   810                       THEFT                            OVER $500   \n",
       "247793  1310             CRIMINAL DAMAGE                          TO PROPERTY   \n",
       "247794  2820               OTHER OFFENSE                     TELEPHONE THREAT   \n",
       "247795  1310             CRIMINAL DAMAGE                          TO PROPERTY   \n",
       "247796  1365           CRIMINAL TRESPASS                         TO RESIDENCE   \n",
       "\n",
       "                Location Description  Arrest  Domestic  ...  Ward  \\\n",
       "0                          RESIDENCE   False     False  ...  12.0   \n",
       "1                          APARTMENT   False     False  ...  24.0   \n",
       "2       COMMERCIAL / BUSINESS OFFICE   False     False  ...  46.0   \n",
       "3                          RESIDENCE   False     False  ...  26.0   \n",
       "4                          RESIDENCE   False     False  ...  47.0   \n",
       "...                              ...     ...       ...  ...   ...   \n",
       "247792                        STREET   False     False  ...   3.0   \n",
       "247793                      SIDEWALK   False     False  ...  25.0   \n",
       "247794                     APARTMENT   False     False  ...  40.0   \n",
       "247795   RESIDENCE - PORCH / HALLWAY   False     False  ...  46.0   \n",
       "247796                     RESIDENCE   False      True  ...  16.0   \n",
       "\n",
       "        Community Area  NIC Code  X Coordinate Y Coordinate  Year  \\\n",
       "0                   29        11           NaN          NaN  2017   \n",
       "1                   29        11           NaN          NaN  2017   \n",
       "2                    3        11           NaN          NaN  2017   \n",
       "3                   22        11           NaN          NaN  2017   \n",
       "4                    6        17           NaN          NaN  2017   \n",
       "...                ...       ...           ...          ...   ...   \n",
       "247792              68         6           NaN          NaN  2022   \n",
       "247793              31        14           NaN          NaN  2022   \n",
       "247794               2       08A           NaN          NaN  2022   \n",
       "247795               3        14           NaN          NaN  2022   \n",
       "247796              68        26           NaN          NaN  2022   \n",
       "\n",
       "                    Updated On  Latitude Longitude  Location  \n",
       "0          2019-06-03 16:20:10       NaN       NaN       NaN  \n",
       "1       03/14/2019 04:07:17 PM       NaN       NaN       NaN  \n",
       "2       03/15/2018 03:55:29 PM       NaN       NaN       NaN  \n",
       "3       03/19/2018 04:13:18 PM       NaN       NaN       NaN  \n",
       "4       08/23/2019 03:57:55 PM       NaN       NaN       NaN  \n",
       "...                        ...       ...       ...       ...  \n",
       "247792     2023-02-01 15:48:34       NaN       NaN       NaN  \n",
       "247793     2023-02-01 15:48:34       NaN       NaN       NaN  \n",
       "247794  02/27/2022 03:48:47 PM       NaN       NaN       NaN  \n",
       "247795     2023-02-01 15:48:34       NaN       NaN       NaN  \n",
       "247796     2023-02-01 15:48:34       NaN       NaN       NaN  \n",
       "\n",
       "[247797 rows x 22 columns]"
      ]
     },
     "execution_count": 89,
     "metadata": {},
     "output_type": "execute_result"
    }
   ],
   "source": [
    "df"
   ]
  },
  {
   "cell_type": "code",
   "execution_count": 90,
   "id": "a4216c47",
   "metadata": {},
   "outputs": [
    {
     "data": {
      "text/plain": [
       "Index(['ID', 'Case Number', 'Date', 'Block', 'UCR', 'Primary Type',\n",
       "       'Description', 'Location Description', 'Arrest', 'Domestic', 'Beat',\n",
       "       'District', 'Ward', 'Community Area', 'NIC Code', 'X Coordinate',\n",
       "       'Y Coordinate', 'Year', 'Updated On', 'Latitude', 'Longitude',\n",
       "       'Location'],\n",
       "      dtype='object')"
      ]
     },
     "execution_count": 90,
     "metadata": {},
     "output_type": "execute_result"
    }
   ],
   "source": [
    "df.columns"
   ]
  },
  {
   "cell_type": "code",
   "execution_count": 91,
   "id": "396bb1ec",
   "metadata": {},
   "outputs": [],
   "source": [
    "df=df.drop(columns={'ID','Case Number','UCR','X Coordinate','Y Coordinate','Updated On','Location'}, axis=1)"
   ]
  },
  {
   "cell_type": "code",
   "execution_count": 92,
   "id": "10f4d5e9",
   "metadata": {},
   "outputs": [],
   "source": [
    "df=df.drop(columns={'Latitude','Longitude'}, axis=1)"
   ]
  },
  {
   "cell_type": "code",
   "execution_count": 93,
   "id": "ee282e7d",
   "metadata": {},
   "outputs": [
    {
     "data": {
      "text/plain": [
       "Date                      0\n",
       "Block                     0\n",
       "Primary Type              0\n",
       "Description               0\n",
       "Location Description    879\n",
       "Arrest                    0\n",
       "Domestic                  0\n",
       "Beat                      0\n",
       "District                  0\n",
       "Ward                      1\n",
       "Community Area            0\n",
       "NIC Code                  0\n",
       "Year                      0\n",
       "dtype: int64"
      ]
     },
     "execution_count": 93,
     "metadata": {},
     "output_type": "execute_result"
    }
   ],
   "source": [
    "df.isnull().sum()"
   ]
  },
  {
   "cell_type": "code",
   "execution_count": 94,
   "id": "f72f4cfb",
   "metadata": {},
   "outputs": [
    {
     "data": {
      "text/plain": [
       "(247797, 13)"
      ]
     },
     "execution_count": 94,
     "metadata": {},
     "output_type": "execute_result"
    }
   ],
   "source": [
    "df.shape"
   ]
  },
  {
   "cell_type": "code",
   "execution_count": 95,
   "id": "14197a7c",
   "metadata": {},
   "outputs": [
    {
     "data": {
      "text/plain": [
       "Date                    0\n",
       "Block                   0\n",
       "Primary Type            0\n",
       "Description             0\n",
       "Location Description    0\n",
       "Arrest                  0\n",
       "Domestic                0\n",
       "Beat                    0\n",
       "District                0\n",
       "Ward                    0\n",
       "Community Area          0\n",
       "NIC Code                0\n",
       "Year                    0\n",
       "dtype: int64"
      ]
     },
     "execution_count": 95,
     "metadata": {},
     "output_type": "execute_result"
    }
   ],
   "source": [
    "df=df.dropna()\n",
    "df.isnull().sum()"
   ]
  },
  {
   "cell_type": "code",
   "execution_count": 96,
   "id": "e50847fd",
   "metadata": {},
   "outputs": [
    {
     "name": "stdout",
     "output_type": "stream",
     "text": [
      "<class 'pandas.core.frame.DataFrame'>\n",
      "Int64Index: 246917 entries, 0 to 247796\n",
      "Data columns (total 13 columns):\n",
      " #   Column                Non-Null Count   Dtype         \n",
      "---  ------                --------------   -----         \n",
      " 0   Date                  246917 non-null  datetime64[ns]\n",
      " 1   Block                 246917 non-null  object        \n",
      " 2   Primary Type          246917 non-null  object        \n",
      " 3   Description           246917 non-null  object        \n",
      " 4   Location Description  246917 non-null  object        \n",
      " 5   Arrest                246917 non-null  bool          \n",
      " 6   Domestic              246917 non-null  bool          \n",
      " 7   Beat                  246917 non-null  int64         \n",
      " 8   District              246917 non-null  int64         \n",
      " 9   Ward                  246917 non-null  float64       \n",
      " 10  Community Area        246917 non-null  int64         \n",
      " 11  NIC Code              246917 non-null  object        \n",
      " 12  Year                  246917 non-null  int64         \n",
      "dtypes: bool(2), datetime64[ns](1), float64(1), int64(4), object(5)\n",
      "memory usage: 23.1+ MB\n"
     ]
    }
   ],
   "source": [
    "df.info()"
   ]
  },
  {
   "cell_type": "code",
   "execution_count": 97,
   "id": "554d19b4",
   "metadata": {},
   "outputs": [],
   "source": [
    "df=df.set_index('Date')"
   ]
  },
  {
   "cell_type": "code",
   "execution_count": 98,
   "id": "4e8c0c5c",
   "metadata": {},
   "outputs": [
    {
     "data": {
      "text/html": [
       "<div>\n",
       "<style scoped>\n",
       "    .dataframe tbody tr th:only-of-type {\n",
       "        vertical-align: middle;\n",
       "    }\n",
       "\n",
       "    .dataframe tbody tr th {\n",
       "        vertical-align: top;\n",
       "    }\n",
       "\n",
       "    .dataframe thead th {\n",
       "        text-align: right;\n",
       "    }\n",
       "</style>\n",
       "<table border=\"1\" class=\"dataframe\">\n",
       "  <thead>\n",
       "    <tr style=\"text-align: right;\">\n",
       "      <th></th>\n",
       "      <th>Block</th>\n",
       "      <th>Primary Type</th>\n",
       "      <th>Description</th>\n",
       "      <th>Location Description</th>\n",
       "      <th>Arrest</th>\n",
       "      <th>Domestic</th>\n",
       "      <th>Beat</th>\n",
       "      <th>District</th>\n",
       "      <th>Ward</th>\n",
       "      <th>Community Area</th>\n",
       "      <th>NIC Code</th>\n",
       "      <th>Year</th>\n",
       "    </tr>\n",
       "    <tr>\n",
       "      <th>Date</th>\n",
       "      <th></th>\n",
       "      <th></th>\n",
       "      <th></th>\n",
       "      <th></th>\n",
       "      <th></th>\n",
       "      <th></th>\n",
       "      <th></th>\n",
       "      <th></th>\n",
       "      <th></th>\n",
       "      <th></th>\n",
       "      <th></th>\n",
       "      <th></th>\n",
       "    </tr>\n",
       "  </thead>\n",
       "  <tbody>\n",
       "    <tr>\n",
       "      <th>2017-01-01 00:00:00</th>\n",
       "      <td>018XX S CALIFORNIA AVE</td>\n",
       "      <td>DECEPTIVE PRACTICE</td>\n",
       "      <td>FINANCIAL IDENTITY THEFT OVER $ 300</td>\n",
       "      <td>RESIDENCE</td>\n",
       "      <td>False</td>\n",
       "      <td>False</td>\n",
       "      <td>1022</td>\n",
       "      <td>10</td>\n",
       "      <td>12.0</td>\n",
       "      <td>29</td>\n",
       "      <td>11</td>\n",
       "      <td>2017</td>\n",
       "    </tr>\n",
       "    <tr>\n",
       "      <th>2017-01-01 00:00:00</th>\n",
       "      <td>013XX S LAWNDALE AVE</td>\n",
       "      <td>DECEPTIVE PRACTICE</td>\n",
       "      <td>FINANCIAL IDENTITY THEFT OVER $ 300</td>\n",
       "      <td>APARTMENT</td>\n",
       "      <td>False</td>\n",
       "      <td>False</td>\n",
       "      <td>1011</td>\n",
       "      <td>10</td>\n",
       "      <td>24.0</td>\n",
       "      <td>29</td>\n",
       "      <td>11</td>\n",
       "      <td>2017</td>\n",
       "    </tr>\n",
       "    <tr>\n",
       "      <th>2017-01-01 00:00:00</th>\n",
       "      <td>045XX N HAZEL ST</td>\n",
       "      <td>DECEPTIVE PRACTICE</td>\n",
       "      <td>AGGRAVATED FINANCIAL IDENTITY THEFT</td>\n",
       "      <td>COMMERCIAL / BUSINESS OFFICE</td>\n",
       "      <td>False</td>\n",
       "      <td>False</td>\n",
       "      <td>1914</td>\n",
       "      <td>19</td>\n",
       "      <td>46.0</td>\n",
       "      <td>3</td>\n",
       "      <td>11</td>\n",
       "      <td>2017</td>\n",
       "    </tr>\n",
       "    <tr>\n",
       "      <th>2017-01-01 00:00:00</th>\n",
       "      <td>038XX W ARMITAGE AVE</td>\n",
       "      <td>DECEPTIVE PRACTICE</td>\n",
       "      <td>FINANCIAL IDENTITY THEFT OVER $ 300</td>\n",
       "      <td>RESIDENCE</td>\n",
       "      <td>False</td>\n",
       "      <td>False</td>\n",
       "      <td>2525</td>\n",
       "      <td>25</td>\n",
       "      <td>26.0</td>\n",
       "      <td>22</td>\n",
       "      <td>11</td>\n",
       "      <td>2017</td>\n",
       "    </tr>\n",
       "    <tr>\n",
       "      <th>2017-01-01 00:00:00</th>\n",
       "      <td>017XX W HENDERSON ST</td>\n",
       "      <td>OFFENSE INVOLVING CHILDREN</td>\n",
       "      <td>AGG CRIM SEX ABUSE FAM MEMBER</td>\n",
       "      <td>RESIDENCE</td>\n",
       "      <td>False</td>\n",
       "      <td>False</td>\n",
       "      <td>1922</td>\n",
       "      <td>19</td>\n",
       "      <td>47.0</td>\n",
       "      <td>6</td>\n",
       "      <td>17</td>\n",
       "      <td>2017</td>\n",
       "    </tr>\n",
       "    <tr>\n",
       "      <th>...</th>\n",
       "      <td>...</td>\n",
       "      <td>...</td>\n",
       "      <td>...</td>\n",
       "      <td>...</td>\n",
       "      <td>...</td>\n",
       "      <td>...</td>\n",
       "      <td>...</td>\n",
       "      <td>...</td>\n",
       "      <td>...</td>\n",
       "      <td>...</td>\n",
       "      <td>...</td>\n",
       "      <td>...</td>\n",
       "    </tr>\n",
       "    <tr>\n",
       "      <th>2022-03-08 09:30:00</th>\n",
       "      <td>055XX S PRINCETON AVE</td>\n",
       "      <td>THEFT</td>\n",
       "      <td>OVER $500</td>\n",
       "      <td>STREET</td>\n",
       "      <td>False</td>\n",
       "      <td>False</td>\n",
       "      <td>711</td>\n",
       "      <td>7</td>\n",
       "      <td>3.0</td>\n",
       "      <td>68</td>\n",
       "      <td>6</td>\n",
       "      <td>2022</td>\n",
       "    </tr>\n",
       "    <tr>\n",
       "      <th>2022-06-08 01:33:00</th>\n",
       "      <td>018XX S RACINE AVE</td>\n",
       "      <td>CRIMINAL DAMAGE</td>\n",
       "      <td>TO PROPERTY</td>\n",
       "      <td>SIDEWALK</td>\n",
       "      <td>False</td>\n",
       "      <td>False</td>\n",
       "      <td>1233</td>\n",
       "      <td>12</td>\n",
       "      <td>25.0</td>\n",
       "      <td>31</td>\n",
       "      <td>14</td>\n",
       "      <td>2022</td>\n",
       "    </tr>\n",
       "    <tr>\n",
       "      <th>2022-07-02 05:13:00</th>\n",
       "      <td>061XX N HAMILTON AVE</td>\n",
       "      <td>OTHER OFFENSE</td>\n",
       "      <td>TELEPHONE THREAT</td>\n",
       "      <td>APARTMENT</td>\n",
       "      <td>False</td>\n",
       "      <td>False</td>\n",
       "      <td>2413</td>\n",
       "      <td>24</td>\n",
       "      <td>40.0</td>\n",
       "      <td>2</td>\n",
       "      <td>08A</td>\n",
       "      <td>2022</td>\n",
       "    </tr>\n",
       "    <tr>\n",
       "      <th>2022-07-08 03:20:00</th>\n",
       "      <td>011XX W LELAND AVE</td>\n",
       "      <td>CRIMINAL DAMAGE</td>\n",
       "      <td>TO PROPERTY</td>\n",
       "      <td>RESIDENCE - PORCH / HALLWAY</td>\n",
       "      <td>False</td>\n",
       "      <td>False</td>\n",
       "      <td>1914</td>\n",
       "      <td>19</td>\n",
       "      <td>46.0</td>\n",
       "      <td>3</td>\n",
       "      <td>14</td>\n",
       "      <td>2022</td>\n",
       "    </tr>\n",
       "    <tr>\n",
       "      <th>2022-08-08 23:29:00</th>\n",
       "      <td>057XX S ABERDEEN ST</td>\n",
       "      <td>CRIMINAL TRESPASS</td>\n",
       "      <td>TO RESIDENCE</td>\n",
       "      <td>RESIDENCE</td>\n",
       "      <td>False</td>\n",
       "      <td>True</td>\n",
       "      <td>712</td>\n",
       "      <td>7</td>\n",
       "      <td>16.0</td>\n",
       "      <td>68</td>\n",
       "      <td>26</td>\n",
       "      <td>2022</td>\n",
       "    </tr>\n",
       "  </tbody>\n",
       "</table>\n",
       "<p>246917 rows × 12 columns</p>\n",
       "</div>"
      ],
      "text/plain": [
       "                                      Block                Primary Type  \\\n",
       "Date                                                                      \n",
       "2017-01-01 00:00:00  018XX S CALIFORNIA AVE          DECEPTIVE PRACTICE   \n",
       "2017-01-01 00:00:00    013XX S LAWNDALE AVE          DECEPTIVE PRACTICE   \n",
       "2017-01-01 00:00:00        045XX N HAZEL ST          DECEPTIVE PRACTICE   \n",
       "2017-01-01 00:00:00    038XX W ARMITAGE AVE          DECEPTIVE PRACTICE   \n",
       "2017-01-01 00:00:00    017XX W HENDERSON ST  OFFENSE INVOLVING CHILDREN   \n",
       "...                                     ...                         ...   \n",
       "2022-03-08 09:30:00   055XX S PRINCETON AVE                       THEFT   \n",
       "2022-06-08 01:33:00      018XX S RACINE AVE             CRIMINAL DAMAGE   \n",
       "2022-07-02 05:13:00    061XX N HAMILTON AVE               OTHER OFFENSE   \n",
       "2022-07-08 03:20:00      011XX W LELAND AVE             CRIMINAL DAMAGE   \n",
       "2022-08-08 23:29:00     057XX S ABERDEEN ST           CRIMINAL TRESPASS   \n",
       "\n",
       "                                             Description  \\\n",
       "Date                                                       \n",
       "2017-01-01 00:00:00  FINANCIAL IDENTITY THEFT OVER $ 300   \n",
       "2017-01-01 00:00:00  FINANCIAL IDENTITY THEFT OVER $ 300   \n",
       "2017-01-01 00:00:00  AGGRAVATED FINANCIAL IDENTITY THEFT   \n",
       "2017-01-01 00:00:00  FINANCIAL IDENTITY THEFT OVER $ 300   \n",
       "2017-01-01 00:00:00        AGG CRIM SEX ABUSE FAM MEMBER   \n",
       "...                                                  ...   \n",
       "2022-03-08 09:30:00                            OVER $500   \n",
       "2022-06-08 01:33:00                          TO PROPERTY   \n",
       "2022-07-02 05:13:00                     TELEPHONE THREAT   \n",
       "2022-07-08 03:20:00                          TO PROPERTY   \n",
       "2022-08-08 23:29:00                         TO RESIDENCE   \n",
       "\n",
       "                             Location Description  Arrest  Domestic  Beat  \\\n",
       "Date                                                                        \n",
       "2017-01-01 00:00:00                     RESIDENCE   False     False  1022   \n",
       "2017-01-01 00:00:00                     APARTMENT   False     False  1011   \n",
       "2017-01-01 00:00:00  COMMERCIAL / BUSINESS OFFICE   False     False  1914   \n",
       "2017-01-01 00:00:00                     RESIDENCE   False     False  2525   \n",
       "2017-01-01 00:00:00                     RESIDENCE   False     False  1922   \n",
       "...                                           ...     ...       ...   ...   \n",
       "2022-03-08 09:30:00                        STREET   False     False   711   \n",
       "2022-06-08 01:33:00                      SIDEWALK   False     False  1233   \n",
       "2022-07-02 05:13:00                     APARTMENT   False     False  2413   \n",
       "2022-07-08 03:20:00   RESIDENCE - PORCH / HALLWAY   False     False  1914   \n",
       "2022-08-08 23:29:00                     RESIDENCE   False      True   712   \n",
       "\n",
       "                     District  Ward  Community Area NIC Code  Year  \n",
       "Date                                                                \n",
       "2017-01-01 00:00:00        10  12.0              29       11  2017  \n",
       "2017-01-01 00:00:00        10  24.0              29       11  2017  \n",
       "2017-01-01 00:00:00        19  46.0               3       11  2017  \n",
       "2017-01-01 00:00:00        25  26.0              22       11  2017  \n",
       "2017-01-01 00:00:00        19  47.0               6       17  2017  \n",
       "...                       ...   ...             ...      ...   ...  \n",
       "2022-03-08 09:30:00         7   3.0              68        6  2022  \n",
       "2022-06-08 01:33:00        12  25.0              31       14  2022  \n",
       "2022-07-02 05:13:00        24  40.0               2      08A  2022  \n",
       "2022-07-08 03:20:00        19  46.0               3       14  2022  \n",
       "2022-08-08 23:29:00         7  16.0              68       26  2022  \n",
       "\n",
       "[246917 rows x 12 columns]"
      ]
     },
     "execution_count": 98,
     "metadata": {},
     "output_type": "execute_result"
    }
   ],
   "source": [
    "df"
   ]
  },
  {
   "cell_type": "markdown",
   "id": "d6a6f6c2",
   "metadata": {},
   "source": [
    "##  years with highest crime records"
   ]
  },
  {
   "cell_type": "code",
   "execution_count": 99,
   "id": "ab3d35c5",
   "metadata": {},
   "outputs": [],
   "source": [
    "crime_by_year=df.groupby([df.index.year]).size()"
   ]
  },
  {
   "cell_type": "code",
   "execution_count": 100,
   "id": "a3419920",
   "metadata": {},
   "outputs": [
    {
     "data": {
      "text/plain": [
       "Date\n",
       "2017    102208\n",
       "2018    101532\n",
       "2019     39100\n",
       "2020      3605\n",
       "2021       466\n",
       "2022         6\n",
       "dtype: int64"
      ]
     },
     "execution_count": 100,
     "metadata": {},
     "output_type": "execute_result"
    }
   ],
   "source": [
    "crime_by_year"
   ]
  },
  {
   "cell_type": "code",
   "execution_count": 101,
   "id": "1e8f2474",
   "metadata": {},
   "outputs": [
    {
     "data": {
      "image/png": "[encoded data removed]",
      "text/plain": [
       "<Figure size 720x576 with 1 Axes>"
      ]
     },
     "metadata": {
      "needs_background": "light"
     },
     "output_type": "display_data"
    }
   ],
   "source": [
    "crime_by_year.plot(kind='bar', figsize=(10,8))\n",
    "plt.title('crime rates by year')\n",
    "plt.xlabel('year')\n",
    "plt.ylabel('number of crimes')\n",
    "plt.show()"
   ]
  },
  {
   "cell_type": "markdown",
   "id": "8fd0577b",
   "metadata": {},
   "source": [
    "## type of crime happening in the country"
   ]
  },
  {
   "cell_type": "code",
   "execution_count": 102,
   "id": "b5b63b74",
   "metadata": {},
   "outputs": [],
   "source": [
    "crime_type_counts=df[['Primary Type','Arrest','Domestic']].groupby('Primary Type').sum()\n",
    "crime_type_counts['Total']=df.groupby('Primary Type').size()\n",
    "crime_type_counts=crime_type_counts.sort_values(by='Total')"
   ]
  },
  {
   "cell_type": "code",
   "execution_count": 103,
   "id": "37636b4d",
   "metadata": {},
   "outputs": [
    {
     "data": {
      "image/png": "[encoded data removed]",
      "text/plain": [
       "<Figure size 720x576 with 1 Axes>"
      ]
     },
     "metadata": {
      "needs_background": "light"
     },
     "output_type": "display_data"
    }
   ],
   "source": [
    "crime_type_counts['Total'].plot(kind='barh', figsize=(10,8))\n",
    "plt.title('Types of crimes and their counts')\n",
    "plt.xlabel('number of crime reports')\n",
    "plt.ylabel('type of crime')\n",
    "plt.tight_layout()\n",
    "plt.show()"
   ]
  },
  {
   "cell_type": "markdown",
   "id": "f7688a69",
   "metadata": {},
   "source": [
    "### we can see that THEFT is the most common type of crime which is committed"
   ]
  },
  {
   "cell_type": "markdown",
   "id": "f6c70f9a",
   "metadata": {},
   "source": [
    "## deep into theft crimes"
   ]
  },
  {
   "cell_type": "code",
   "execution_count": 104,
   "id": "4d393e2c",
   "metadata": {},
   "outputs": [],
   "source": [
    "theft_crimes=df[df['Primary Type']=='THEFT']\n",
    "theft_crimes_details=theft_crimes[['Primary Type','Description']].groupby('Description').count().sort_values(by='Primary Type', ascending=False)"
   ]
  },
  {
   "cell_type": "code",
   "execution_count": 105,
   "id": "21abc43a",
   "metadata": {},
   "outputs": [
    {
     "data": {
      "text/html": [
       "<div>\n",
       "<style scoped>\n",
       "    .dataframe tbody tr th:only-of-type {\n",
       "        vertical-align: middle;\n",
       "    }\n",
       "\n",
       "    .dataframe tbody tr th {\n",
       "        vertical-align: top;\n",
       "    }\n",
       "\n",
       "    .dataframe thead th {\n",
       "        text-align: right;\n",
       "    }\n",
       "</style>\n",
       "<table border=\"1\" class=\"dataframe\">\n",
       "  <thead>\n",
       "    <tr style=\"text-align: right;\">\n",
       "      <th></th>\n",
       "      <th>Primary Type</th>\n",
       "    </tr>\n",
       "    <tr>\n",
       "      <th>Description</th>\n",
       "      <th></th>\n",
       "    </tr>\n",
       "  </thead>\n",
       "  <tbody>\n",
       "    <tr>\n",
       "      <th>$500 AND UNDER</th>\n",
       "      <td>22221</td>\n",
       "    </tr>\n",
       "    <tr>\n",
       "      <th>OVER $500</th>\n",
       "      <td>13465</td>\n",
       "    </tr>\n",
       "    <tr>\n",
       "      <th>FROM BUILDING</th>\n",
       "      <td>10028</td>\n",
       "    </tr>\n",
       "    <tr>\n",
       "      <th>RETAIL THEFT</th>\n",
       "      <td>9425</td>\n",
       "    </tr>\n",
       "    <tr>\n",
       "      <th>POCKET-PICKING</th>\n",
       "      <td>2310</td>\n",
       "    </tr>\n",
       "    <tr>\n",
       "      <th>PURSE-SNATCHING</th>\n",
       "      <td>565</td>\n",
       "    </tr>\n",
       "    <tr>\n",
       "      <th>ATTEMPT THEFT</th>\n",
       "      <td>361</td>\n",
       "    </tr>\n",
       "    <tr>\n",
       "      <th>DELIVERY CONTAINER THEFT</th>\n",
       "      <td>43</td>\n",
       "    </tr>\n",
       "    <tr>\n",
       "      <th>FROM COIN-OP MACHINE/DEVICE</th>\n",
       "      <td>14</td>\n",
       "    </tr>\n",
       "  </tbody>\n",
       "</table>\n",
       "</div>"
      ],
      "text/plain": [
       "                             Primary Type\n",
       "Description                              \n",
       "$500 AND UNDER                      22221\n",
       "OVER $500                           13465\n",
       "FROM BUILDING                       10028\n",
       "RETAIL THEFT                         9425\n",
       "POCKET-PICKING                       2310\n",
       "PURSE-SNATCHING                       565\n",
       "ATTEMPT THEFT                         361\n",
       "DELIVERY CONTAINER THEFT               43\n",
       "FROM COIN-OP MACHINE/DEVICE            14"
      ]
     },
     "execution_count": 105,
     "metadata": {},
     "output_type": "execute_result"
    }
   ],
   "source": [
    "theft_crimes_details"
   ]
  },
  {
   "cell_type": "markdown",
   "id": "649210c1",
   "metadata": {},
   "source": [
    "### from above we can see that most of the thefts are under $500 "
   ]
  },
  {
   "cell_type": "code",
   "execution_count": 106,
   "id": "a825d5a4",
   "metadata": {},
   "outputs": [
    {
     "data": {
      "image/png": "[encoded data removed]",
      "text/plain": [
       "<Figure size 720x576 with 1 Axes>"
      ]
     },
     "metadata": {
      "needs_background": "light"
     },
     "output_type": "display_data"
    }
   ],
   "source": [
    "crime_type_counts[crime_type_counts['Total']>=5000].sort_values(by='Total', ascending=True).plot(kind='barh', figsize=(10,8))\n",
    "plt.show()"
   ]
  },
  {
   "cell_type": "markdown",
   "id": "64a48f40",
   "metadata": {},
   "source": [
    "## Top 10 locations by no. of crimes"
   ]
  },
  {
   "cell_type": "code",
   "execution_count": 107,
   "id": "babc14dc",
   "metadata": {},
   "outputs": [],
   "source": [
    "crimes_by_location=df[['Location Description','Arrest','Domestic']].groupby('Location Description').sum()"
   ]
  },
  {
   "cell_type": "code",
   "execution_count": 108,
   "id": "d10e0c53",
   "metadata": {},
   "outputs": [],
   "source": [
    "crimes_by_location['Total']=df.groupby('Location Description').size()"
   ]
  },
  {
   "cell_type": "code",
   "execution_count": 109,
   "id": "1b34c24a",
   "metadata": {},
   "outputs": [
    {
     "data": {
      "text/html": [
       "<div>\n",
       "<style scoped>\n",
       "    .dataframe tbody tr th:only-of-type {\n",
       "        vertical-align: middle;\n",
       "    }\n",
       "\n",
       "    .dataframe tbody tr th {\n",
       "        vertical-align: top;\n",
       "    }\n",
       "\n",
       "    .dataframe thead th {\n",
       "        text-align: right;\n",
       "    }\n",
       "</style>\n",
       "<table border=\"1\" class=\"dataframe\">\n",
       "  <thead>\n",
       "    <tr style=\"text-align: right;\">\n",
       "      <th></th>\n",
       "      <th>Arrest</th>\n",
       "      <th>Domestic</th>\n",
       "      <th>Total</th>\n",
       "    </tr>\n",
       "    <tr>\n",
       "      <th>Location Description</th>\n",
       "      <th></th>\n",
       "      <th></th>\n",
       "      <th></th>\n",
       "    </tr>\n",
       "  </thead>\n",
       "  <tbody>\n",
       "    <tr>\n",
       "      <th>STREET</th>\n",
       "      <td>11956</td>\n",
       "      <td>4324</td>\n",
       "      <td>54127</td>\n",
       "    </tr>\n",
       "    <tr>\n",
       "      <th>RESIDENCE</th>\n",
       "      <td>4761</td>\n",
       "      <td>14757</td>\n",
       "      <td>42685</td>\n",
       "    </tr>\n",
       "    <tr>\n",
       "      <th>APARTMENT</th>\n",
       "      <td>4956</td>\n",
       "      <td>13972</td>\n",
       "      <td>32567</td>\n",
       "    </tr>\n",
       "    <tr>\n",
       "      <th>SIDEWALK</th>\n",
       "      <td>7284</td>\n",
       "      <td>2299</td>\n",
       "      <td>18994</td>\n",
       "    </tr>\n",
       "    <tr>\n",
       "      <th>OTHER</th>\n",
       "      <td>974</td>\n",
       "      <td>787</td>\n",
       "      <td>10017</td>\n",
       "    </tr>\n",
       "    <tr>\n",
       "      <th>...</th>\n",
       "      <td>...</td>\n",
       "      <td>...</td>\n",
       "      <td>...</td>\n",
       "    </tr>\n",
       "    <tr>\n",
       "      <th>SCHOOL - PUBLIC GROUNDS</th>\n",
       "      <td>0</td>\n",
       "      <td>0</td>\n",
       "      <td>2</td>\n",
       "    </tr>\n",
       "    <tr>\n",
       "      <th>MOVIE HOUSE / THEATER</th>\n",
       "      <td>1</td>\n",
       "      <td>0</td>\n",
       "      <td>1</td>\n",
       "    </tr>\n",
       "    <tr>\n",
       "      <th>LAKEFRONT / WATERFRONT / RIVERBANK</th>\n",
       "      <td>0</td>\n",
       "      <td>1</td>\n",
       "      <td>1</td>\n",
       "    </tr>\n",
       "    <tr>\n",
       "      <th>VEHICLE - COMMERCIAL</th>\n",
       "      <td>0</td>\n",
       "      <td>0</td>\n",
       "      <td>1</td>\n",
       "    </tr>\n",
       "    <tr>\n",
       "      <th>FARM</th>\n",
       "      <td>0</td>\n",
       "      <td>0</td>\n",
       "      <td>1</td>\n",
       "    </tr>\n",
       "  </tbody>\n",
       "</table>\n",
       "<p>133 rows × 3 columns</p>\n",
       "</div>"
      ],
      "text/plain": [
       "                                    Arrest  Domestic  Total\n",
       "Location Description                                       \n",
       "STREET                               11956      4324  54127\n",
       "RESIDENCE                             4761     14757  42685\n",
       "APARTMENT                             4956     13972  32567\n",
       "SIDEWALK                              7284      2299  18994\n",
       "OTHER                                  974       787  10017\n",
       "...                                    ...       ...    ...\n",
       "SCHOOL - PUBLIC GROUNDS                  0         0      2\n",
       "MOVIE HOUSE / THEATER                    1         0      1\n",
       "LAKEFRONT / WATERFRONT / RIVERBANK       0         1      1\n",
       "VEHICLE - COMMERCIAL                     0         0      1\n",
       "FARM                                     0         0      1\n",
       "\n",
       "[133 rows x 3 columns]"
      ]
     },
     "execution_count": 109,
     "metadata": {},
     "output_type": "execute_result"
    }
   ],
   "source": [
    "crimes_by_location.sort_values(by='Total', ascending=False)"
   ]
  },
  {
   "cell_type": "markdown",
   "id": "3169af92",
   "metadata": {},
   "source": [
    "### most of the crimes happened on the streets"
   ]
  },
  {
   "cell_type": "code",
   "execution_count": 110,
   "id": "7320ddca",
   "metadata": {},
   "outputs": [
    {
     "data": {
      "image/png": "[encoded data removed]",
      "text/plain": [
       "<Figure size 720x576 with 1 Axes>"
      ]
     },
     "metadata": {
      "needs_background": "light"
     },
     "output_type": "display_data"
    }
   ],
   "source": [
    "crimes_by_location[crimes_by_location['Total']>10000].plot(kind='bar', figsize=(10,8))\n",
    "plt.show()"
   ]
  },
  {
   "cell_type": "markdown",
   "id": "c6ef398e",
   "metadata": {},
   "source": [
    "## comparing arrested vs not arrested"
   ]
  },
  {
   "cell_type": "code",
   "execution_count": 147,
   "id": "1503d278",
   "metadata": {},
   "outputs": [
    {
     "data": {
      "text/plain": [
       "Block                   0\n",
       "Primary Type            0\n",
       "Description             0\n",
       "Location Description    0\n",
       "Arrest                  0\n",
       "Domestic                0\n",
       "Beat                    0\n",
       "District                0\n",
       "Ward                    0\n",
       "Community Area          0\n",
       "NIC Code                0\n",
       "Year                    0\n",
       "dtype: int64"
      ]
     },
     "execution_count": 147,
     "metadata": {},
     "output_type": "execute_result"
    }
   ],
   "source": [
    "df.isnull().sum()"
   ]
  },
  {
   "cell_type": "code",
   "execution_count": 120,
   "id": "03f5dbe1",
   "metadata": {},
   "outputs": [],
   "source": [
    "from collections import Counter\n",
    "Arrest=df['Arrest']\n",
    "Arrest2=Counter(Arrest)"
   ]
  },
  {
   "cell_type": "code",
   "execution_count": 123,
   "id": "f631f696",
   "metadata": {},
   "outputs": [
    {
     "data": {
      "text/plain": [
       "[(False, 196666), (True, 50251)]"
      ]
     },
     "execution_count": 123,
     "metadata": {},
     "output_type": "execute_result"
    }
   ],
   "source": [
    "MOstCommonCA=Arrest2.most_common()\n",
    "MOstCommonCA"
   ]
  },
  {
   "cell_type": "code",
   "execution_count": 124,
   "id": "b39c3c8c",
   "metadata": {},
   "outputs": [
    {
     "data": {
      "text/plain": [
       "([False, True], [196666, 50251])"
      ]
     },
     "execution_count": 124,
     "metadata": {},
     "output_type": "execute_result"
    }
   ],
   "source": [
    "x,y = zip(*MOstCommonCA)\n",
    "x,y = list(x),list(y)\n",
    "x,y"
   ]
  },
  {
   "cell_type": "code",
   "execution_count": 177,
   "id": "aeed7f72",
   "metadata": {},
   "outputs": [
    {
     "data": {
      "image/png": "[encoded data removed]",
      "text/plain": [
       "<Figure size 720x288 with 1 Axes>"
      ]
     },
     "metadata": {
      "needs_background": "light"
     },
     "output_type": "display_data"
    }
   ],
   "source": [
    "x[1]=\"arrested\"\n",
    "x[0]=\"not arrested\"\n",
    "plt.figure(figsize=(10,4))\n",
    "sns.barplot(x=x, y=y, palette='dark')\n",
    "plt.xlabel('arresting')\n",
    "plt.ylabel('no of crimes')\n",
    "plt.show()"
   ]
  },
  {
   "cell_type": "markdown",
   "id": "c60385eb",
   "metadata": {},
   "source": [
    "### from above plot we can see that maximum no of crimes are not being arrested"
   ]
  },
  {
   "cell_type": "markdown",
   "id": "f300616f",
   "metadata": {},
   "source": [
    "## plot rate of arrested vs not arrested"
   ]
  },
  {
   "cell_type": "code",
   "execution_count": 187,
   "id": "c9d8f99f",
   "metadata": {},
   "outputs": [
    {
     "data": {
      "image/png": "[encoded data removed]",
      "text/plain": [
       "<Figure size 432x288 with 1 Axes>"
      ]
     },
     "metadata": {},
     "output_type": "display_data"
    }
   ],
   "source": [
    "plt.pie(y,labels=x, autopct=\"%0.2f%%\",startangle=90,radius=1.6)\n",
    "plt.show()"
   ]
  },
  {
   "cell_type": "markdown",
   "id": "d6b0bb44",
   "metadata": {},
   "source": [
    "### about 80% commotted crimes were left unarrested"
   ]
  },
  {
   "cell_type": "markdown",
   "id": "3a5090c8",
   "metadata": {},
   "source": [
    "## arrested rate per crime"
   ]
  },
  {
   "cell_type": "code",
   "execution_count": 200,
   "id": "cbab533d",
   "metadata": {},
   "outputs": [
    {
     "data": {
      "text/html": [
       "<div>\n",
       "<style scoped>\n",
       "    .dataframe tbody tr th:only-of-type {\n",
       "        vertical-align: middle;\n",
       "    }\n",
       "\n",
       "    .dataframe tbody tr th {\n",
       "        vertical-align: top;\n",
       "    }\n",
       "\n",
       "    .dataframe thead th {\n",
       "        text-align: right;\n",
       "    }\n",
       "</style>\n",
       "<table border=\"1\" class=\"dataframe\">\n",
       "  <thead>\n",
       "    <tr style=\"text-align: right;\">\n",
       "      <th></th>\n",
       "      <th>Primary Type</th>\n",
       "      <th>Arrest</th>\n",
       "      <th>arrest %</th>\n",
       "    </tr>\n",
       "  </thead>\n",
       "  <tbody>\n",
       "    <tr>\n",
       "      <th>20</th>\n",
       "      <td>NON-CRIMINAL (SUBJECT SPECIFIED)</td>\n",
       "      <td>0.000000</td>\n",
       "      <td>0.00</td>\n",
       "    </tr>\n",
       "    <tr>\n",
       "      <th>19</th>\n",
       "      <td>NON-CRIMINAL</td>\n",
       "      <td>0.000000</td>\n",
       "      <td>0.00</td>\n",
       "    </tr>\n",
       "    <tr>\n",
       "      <th>7</th>\n",
       "      <td>CRIMINAL SEXUAL ASSAULT</td>\n",
       "      <td>0.039216</td>\n",
       "      <td>3.92</td>\n",
       "    </tr>\n",
       "    <tr>\n",
       "      <th>3</th>\n",
       "      <td>BURGLARY</td>\n",
       "      <td>0.045150</td>\n",
       "      <td>4.52</td>\n",
       "    </tr>\n",
       "    <tr>\n",
       "      <th>9</th>\n",
       "      <td>DECEPTIVE PRACTICE</td>\n",
       "      <td>0.046815</td>\n",
       "      <td>4.68</td>\n",
       "    </tr>\n",
       "    <tr>\n",
       "      <th>6</th>\n",
       "      <td>CRIMINAL DAMAGE</td>\n",
       "      <td>0.059438</td>\n",
       "      <td>5.94</td>\n",
       "    </tr>\n",
       "    <tr>\n",
       "      <th>14</th>\n",
       "      <td>INTIMIDATION</td>\n",
       "      <td>0.062893</td>\n",
       "      <td>6.29</td>\n",
       "    </tr>\n",
       "    <tr>\n",
       "      <th>15</th>\n",
       "      <td>KIDNAPPING</td>\n",
       "      <td>0.064103</td>\n",
       "      <td>6.41</td>\n",
       "    </tr>\n",
       "    <tr>\n",
       "      <th>5</th>\n",
       "      <td>CRIM SEXUAL ASSAULT</td>\n",
       "      <td>0.064815</td>\n",
       "      <td>6.48</td>\n",
       "    </tr>\n",
       "    <tr>\n",
       "      <th>17</th>\n",
       "      <td>MOTOR VEHICLE THEFT</td>\n",
       "      <td>0.065768</td>\n",
       "      <td>6.58</td>\n",
       "    </tr>\n",
       "    <tr>\n",
       "      <th>28</th>\n",
       "      <td>ROBBERY</td>\n",
       "      <td>0.077828</td>\n",
       "      <td>7.78</td>\n",
       "    </tr>\n",
       "    <tr>\n",
       "      <th>31</th>\n",
       "      <td>THEFT</td>\n",
       "      <td>0.099415</td>\n",
       "      <td>9.94</td>\n",
       "    </tr>\n",
       "    <tr>\n",
       "      <th>30</th>\n",
       "      <td>STALKING</td>\n",
       "      <td>0.112745</td>\n",
       "      <td>11.27</td>\n",
       "    </tr>\n",
       "    <tr>\n",
       "      <th>0</th>\n",
       "      <td>ARSON</td>\n",
       "      <td>0.113260</td>\n",
       "      <td>11.33</td>\n",
       "    </tr>\n",
       "    <tr>\n",
       "      <th>12</th>\n",
       "      <td>HUMAN TRAFFICKING</td>\n",
       "      <td>0.125000</td>\n",
       "      <td>12.50</td>\n",
       "    </tr>\n",
       "    <tr>\n",
       "      <th>22</th>\n",
       "      <td>OFFENSE INVOLVING CHILDREN</td>\n",
       "      <td>0.131579</td>\n",
       "      <td>13.16</td>\n",
       "    </tr>\n",
       "    <tr>\n",
       "      <th>1</th>\n",
       "      <td>ASSAULT</td>\n",
       "      <td>0.172075</td>\n",
       "      <td>17.21</td>\n",
       "    </tr>\n",
       "    <tr>\n",
       "      <th>29</th>\n",
       "      <td>SEX OFFENSE</td>\n",
       "      <td>0.179310</td>\n",
       "      <td>17.93</td>\n",
       "    </tr>\n",
       "    <tr>\n",
       "      <th>2</th>\n",
       "      <td>BATTERY</td>\n",
       "      <td>0.211506</td>\n",
       "      <td>21.15</td>\n",
       "    </tr>\n",
       "    <tr>\n",
       "      <th>24</th>\n",
       "      <td>OTHER OFFENSE</td>\n",
       "      <td>0.218068</td>\n",
       "      <td>21.81</td>\n",
       "    </tr>\n",
       "  </tbody>\n",
       "</table>\n",
       "</div>"
      ],
      "text/plain": [
       "                        Primary Type    Arrest  arrest %\n",
       "20  NON-CRIMINAL (SUBJECT SPECIFIED)  0.000000      0.00\n",
       "19                      NON-CRIMINAL  0.000000      0.00\n",
       "7            CRIMINAL SEXUAL ASSAULT  0.039216      3.92\n",
       "3                           BURGLARY  0.045150      4.52\n",
       "9                 DECEPTIVE PRACTICE  0.046815      4.68\n",
       "6                    CRIMINAL DAMAGE  0.059438      5.94\n",
       "14                      INTIMIDATION  0.062893      6.29\n",
       "15                        KIDNAPPING  0.064103      6.41\n",
       "5                CRIM SEXUAL ASSAULT  0.064815      6.48\n",
       "17               MOTOR VEHICLE THEFT  0.065768      6.58\n",
       "28                           ROBBERY  0.077828      7.78\n",
       "31                             THEFT  0.099415      9.94\n",
       "30                          STALKING  0.112745     11.27\n",
       "0                              ARSON  0.113260     11.33\n",
       "12                 HUMAN TRAFFICKING  0.125000     12.50\n",
       "22        OFFENSE INVOLVING CHILDREN  0.131579     13.16\n",
       "1                            ASSAULT  0.172075     17.21\n",
       "29                       SEX OFFENSE  0.179310     17.93\n",
       "2                            BATTERY  0.211506     21.15\n",
       "24                     OTHER OFFENSE  0.218068     21.81"
      ]
     },
     "execution_count": 200,
     "metadata": {},
     "output_type": "execute_result"
    }
   ],
   "source": [
    "rate_per_crime=df.groupby('Primary Type')['Arrest'].mean().reset_index()\n",
    "rate_per_crime['arrest %']=rate_per_crime['Arrest'].round(4)*100\n",
    "rate_per_crime.sort_values(by='arrest %', ascending=True).head(20)"
   ]
  },
  {
   "cell_type": "code",
   "execution_count": 202,
   "id": "5b86d69c",
   "metadata": {},
   "outputs": [
    {
     "data": {
      "image/png": "[encoded data removed]",
      "text/plain": [
       "<Figure size 720x576 with 1 Axes>"
      ]
     },
     "metadata": {
      "needs_background": "light"
     },
     "output_type": "display_data"
    }
   ],
   "source": [
    "rate_per_crime_1=rate_per_crime.sort_values(by='arrest %', ascending=True).head(20).drop(['Arrest'], axis=1)\n",
    "rate_per_crime_1.plot(x='Primary Type', y=\"arrest %\", kind='barh', figsize=(10,8))\n",
    "plt.xlabel('arrested rate in %')\n",
    "plt.ylabel('crime type')\n",
    "plt.tight_layout()\n",
    "plt.show()"
   ]
  },
  {
   "cell_type": "markdown",
   "id": "73e0cbc7",
   "metadata": {},
   "source": [
    "## analysis of crimes on day basis"
   ]
  },
  {
   "cell_type": "code",
   "execution_count": 210,
   "id": "409fd9c6",
   "metadata": {},
   "outputs": [
    {
     "data": {
      "image/png": "[encoded data removed]",
      "text/plain": [
       "<Figure size 432x216 with 1 Axes>"
      ]
     },
     "metadata": {
      "needs_background": "light"
     },
     "output_type": "display_data"
    }
   ],
   "source": [
    "days=['monday','tuesday','wednesday','thursday','friday','saturday','sunday']\n",
    "df2=df.groupby([df.index.dayofweek]).size()\n",
    "df2.plot(kind='barh', figsize=(6,3))\n",
    "plt.xlabel('no of crimes')\n",
    "plt.ylabel('week of the day')\n",
    "plt.yticks(np.arange(7),days)\n",
    "plt.show()"
   ]
  },
  {
   "cell_type": "markdown",
   "id": "e643358e",
   "metadata": {},
   "source": [
    "## crimes as per month wise"
   ]
  },
  {
   "cell_type": "code",
   "execution_count": 211,
   "id": "d6b85a5b",
   "metadata": {},
   "outputs": [
    {
     "data": {
      "image/png": "[encoded data removed]",
      "text/plain": [
       "<Figure size 432x216 with 1 Axes>"
      ]
     },
     "metadata": {
      "needs_background": "light"
     },
     "output_type": "display_data"
    }
   ],
   "source": [
    "df3=df.groupby([df.index.month]).size()\n",
    "df3.plot(kind='barh', figsize=(6,3))\n",
    "plt.xlabel('no of crimes')\n",
    "plt.ylabel('month')\n",
    "plt.show()"
   ]
  },
  {
   "cell_type": "markdown",
   "id": "8eaf34c4",
   "metadata": {},
   "source": [
    "## overall crimes throughout the period"
   ]
  },
  {
   "cell_type": "code",
   "execution_count": 236,
   "id": "962a8557",
   "metadata": {},
   "outputs": [
    {
     "data": {
      "image/png": "[encoded data removed]",
      "text/plain": [
       "<Figure size 1080x432 with 1 Axes>"
      ]
     },
     "metadata": {
      "needs_background": "light"
     },
     "output_type": "display_data"
    }
   ],
   "source": [
    "plt.figure(figsize=(15,6))\n",
    "df.resample('d').size().rolling(365).sum().plot()\n",
    "plt.title('crime trend year wise')\n",
    "plt.ylabel('no. of crimes')\n",
    "plt.xlabel('year')\n",
    "plt.show()"
   ]
  },
  {
   "cell_type": "markdown",
   "id": "07a901eb",
   "metadata": {},
   "source": [
    "### from above plot we can conclude that crimes are decresing drastically, it shows a good sign"
   ]
  },
  {
   "cell_type": "code",
   "execution_count": null,
   "id": "a068ac43",
   "metadata": {},
   "outputs": [],
   "source": []
  }
 ],
 "metadata": {
  "kernelspec": {
   "display_name": "Python 3 (ipykernel)",
   "language": "python",
   "name": "python3"
  },
  "language_info": {
   "codemirror_mode": {
    "name": "ipython",
    "version": 3
   },
   "file_extension": ".py",
   "mimetype": "text/x-python",
   "name": "python",
   "nbconvert_exporter": "python",
   "pygments_lexer": "ipython3",
   "version": "3.9.12"
  }
 },
 "nbformat": 4,
 "nbformat_minor": 5
}
