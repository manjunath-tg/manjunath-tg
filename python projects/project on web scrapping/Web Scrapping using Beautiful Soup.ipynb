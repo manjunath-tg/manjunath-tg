{
 "cells": [
  {
   "cell_type": "code",
   "execution_count": 2,
   "metadata": {},
   "outputs": [],
   "source": [
    "import bs4\n",
    "from bs4 import BeautifulSoup as bs\n",
    "import requests"
   ]
  },
  {
   "cell_type": "code",
   "execution_count": 3,
   "metadata": {},
   "outputs": [
    {
     "name": "stdout",
     "output_type": "stream",
     "text": [
      "4.9.3\n"
     ]
    }
   ],
   "source": [
    "print(bs4.__version__)"
   ]
  },
  {
   "cell_type": "code",
   "execution_count": 64,
   "metadata": {},
   "outputs": [],
   "source": [
    "url = \"https://www.amazon.in/Fire-TV-Stick-Alexa-Voice-Remote-3rd-Gen/product-reviews/B08R6QR863/ref=cm_cr_dp_d_show_all_btm?ie=UTF8&reviewerType=all_reviews\""
   ]
  },
  {
   "cell_type": "code",
   "execution_count": 65,
   "metadata": {},
   "outputs": [],
   "source": [
    "# Get the html page using url\n",
    "page = requests.get(url)"
   ]
  },
  {
   "cell_type": "code",
   "execution_count": 66,
   "metadata": {
    "collapsed": true
   },
   "outputs": [
    {
     "data": {
      "text/plain": [
       "b'<!DOCTYPE html>\\n<!--[if lt IE 7]> <html lang=\"en-us\" class=\"a-no-js a-lt-ie9 a-lt-ie8 a-lt-ie7\"> <![endif]-->\\n<!--[if IE 7]>    <html lang=\"en-us\" class=\"a-no-js a-lt-ie9 a-lt-ie8\"> <![endif]-->\\n<!--[if IE 8]>    <html lang=\"en-us\" class=\"a-no-js a-lt-ie9\"> <![endif]-->\\n<!--[if gt IE 8]><!-->\\n<html class=\"a-no-js\" lang=\"en-us\"><!--<![endif]--><head>\\n<meta http-equiv=\"content-type\" content=\"text/html; charset=UTF-8\">\\n<meta charset=\"utf-8\">\\n<meta http-equiv=\"X-UA-Compatible\" content=\"IE=edge,chrome=1\">\\n<title dir=\"ltr\">Amazon.in</title>\\n<meta name=\"viewport\" content=\"width=device-width\">\\n<link rel=\"stylesheet\" href=\"https://images-na.ssl-images-amazon.com/images/G/01/AUIClients/AmazonUI-3c913031596ca78a3768f4e934b1cc02ce238101.secure.min._V1_.css\">\\n<script>\\n\\nif (true === true) {\\n    var ue_t0 = (+ new Date()),\\n        ue_csm = window,\\n        ue = { t0: ue_t0, d: function() { return (+new Date() - ue_t0); } },\\n        ue_furl = \"fls-eu.amazon.in\",\\n        ue_mid = \"A21TJRUUN4KGV\",\\n        ue_sid = (document.cookie.match(/session-id=([0-9-]+)/) || [])[1],\\n        ue_sn = \"opfcaptcha.amazon.in\",\\n        ue_id = \\'DG3B3TPQG8VT2GYGCHC9\\';\\n}\\n</script>\\n</head>\\n<body>\\n\\n<!--\\n        To discuss automated access to Amazon data please contact api-services-support@amazon.com.\\n        For information about migrating to our APIs refer to our Marketplace APIs at https://developer.amazonservices.in/ref=rm_c_sv, or our Product Advertising API at https://affiliate-program.amazon.in/gp/advertising/api/detail/main.html/ref=rm_c_ac for advertising use cases.\\n-->\\n\\n<!--\\nCorreios.DoNotSend\\n-->\\n\\n<div class=\"a-container a-padding-double-large\" style=\"min-width:350px;padding:44px 0 !important\">\\n\\n    <div class=\"a-row a-spacing-double-large\" style=\"width: 350px; margin: 0 auto\">\\n\\n        <div class=\"a-row a-spacing-medium a-text-center\"><i class=\"a-icon a-logo\"></i></div>\\n\\n        <div class=\"a-box a-alert a-alert-info a-spacing-base\">\\n            <div class=\"a-box-inner\">\\n                <i class=\"a-icon a-icon-alert\"></i>\\n                <h4>Enter the characters you see below</h4>\\n                <p class=\"a-last\">Sorry, we just need to make sure you\\'re not a robot. For best results, please make sure your browser is accepting cookies.</p>\\n                </div>\\n            </div>\\n\\n            <div class=\"a-section\">\\n\\n                <div class=\"a-box a-color-offset-background\">\\n                    <div class=\"a-box-inner a-padding-extra-large\">\\n\\n                        <form method=\"get\" action=\"/errors/validateCaptcha\" name=\"\">\\n                            <input type=hidden name=\"amzn\" value=\"qjMbdtvFEl+32kg0jTglHQ==\" /><input type=hidden name=\"amzn-r\" value=\"&#047;Fire&#045;TV&#045;Stick&#045;Alexa&#045;Voice&#045;Remote&#045;3rd&#045;Gen&#047;product&#045;reviews&#047;B08R6QR863&#047;ref&#061;cm_cr_dp_d_show_all_btm?ie&#061;UTF8&amp;reviewerType&#061;all_reviews\" />\\n                            <div class=\"a-row a-spacing-large\">\\n                                <div class=\"a-box\">\\n                                    <div class=\"a-box-inner\">\\n                                        <h4>Type the characters you see in this image:</h4>\\n                                        <!-- For automated access to price change or offer listing change events,\\n                                             please refer to the MWS Subscription API:\\n                                             https://developer.amazonservices.in/gp/mws/api.html/276-5247872-0590350?ie=UTF8&section=subscriptions&group=subscriptions&version=latest\\n                                        -->\\n                                        <div class=\"a-row a-text-center\">\\n                                            <img src=\"https://images-na.ssl-images-amazon.com/captcha/lqbiackd/Captcha_iolkdlbiyg.jpg\">\\n                                        </div>\\n                                        <div class=\"a-row a-spacing-base\">\\n                                            <div class=\"a-row\">\\n                                                <div class=\"a-column a-span6\">\\n                                                </div>\\n                                                <div class=\"a-column a-span6 a-span-last a-text-right\">\\n                                                    <a onclick=\"window.location.reload()\">Try different image</a>\\n                                                </div>\\n                                            </div>\\n                                            <input autocomplete=\"off\" spellcheck=\"false\" placeholder=\"Type characters\" id=\"captchacharacters\" name=\"field-keywords\" class=\"a-span12\" autocapitalize=\"off\" autocorrect=\"off\" type=\"text\">\\n                                        </div>\\n                                    </div>\\n                                </div>\\n                            </div>\\n\\n                            <div class=\"a-section a-spacing-extra-large\">\\n\\n                                <div class=\"a-row\">\\n                                    <span class=\"a-button a-button-primary a-span12\">\\n                                        <span class=\"a-button-inner\">\\n                                            <button type=\"submit\" class=\"a-button-text\">Continue shopping</button>\\n                                        </span>\\n                                    </span>\\n                                </div>\\n\\n                            </div>\\n                        </form>\\n\\n                    </div>\\n                </div>\\n\\n            </div>\\n\\n        </div>\\n\\n        <div class=\"a-divider a-divider-section\"><div class=\"a-divider-inner\"></div></div>\\n\\n        <div class=\"a-text-center a-spacing-small a-size-mini\">\\n            <a href=\"https://www.amazon.in/gp/help/customer/display.html/ref=footer_cou?ie=UTF8&nodeId=200545940\">Conditions of Use &amp; Sale</a>\\n            <span class=\"a-letter-space\"></span>\\n            <span class=\"a-letter-space\"></span>\\n            <span class=\"a-letter-space\"></span>\\n            <span class=\"a-letter-space\"></span>\\n            <a href=\"https://www.amazon.in/gp/help/customer/display.html/ref=footer_privacy?ie=UTF8&nodeId=200534380\">Privacy Notice</a>\\n        </div>\\n\\n        <div class=\"a-text-center a-size-mini a-color-secondary\">\\n          &copy; 1996-2015, Amazon.com, Inc. or its affiliates\\n          <script>\\n           if (true === true) {\\n             document.write(\\'<img src=\"https://fls-eu.amaz\\'+\\'on.in/\\'+\\'1/oc-csi/1/OP/requestId=DG3B3TPQG8VT2GYGCHC9&js=1\" />\\');\\n           };\\n          </script>\\n          <noscript>\\n            <img src=\"https://fls-eu.amazon.in/1/oc-csi/1/OP/requestId=DG3B3TPQG8VT2GYGCHC9&js=0\" />\\n          </noscript>\\n        </div>\\n    </div>\\n    <script>\\n    if (true === true) {\\n        var head = document.getElementsByTagName(\\'head\\')[0],\\n            prefix = \"https://images-eu.ssl-images-amazon.com/images/G/01/csminstrumentation/\",\\n            elem = document.createElement(\"script\");\\n        elem.src = prefix + \"csm-captcha-instrumentation.min.js\";\\n        head.appendChild(elem);\\n\\n        elem = document.createElement(\"script\");\\n        elem.src = prefix + \"rd-script-6d68177fa6061598e9509dc4b5bdd08d.js\";\\n        head.appendChild(elem);\\n    }\\n    </script>\\n</body></html>\\n'"
      ]
     },
     "execution_count": 66,
     "metadata": {},
     "output_type": "execute_result"
    }
   ],
   "source": [
    "#Display the html page\n",
    "page.content"
   ]
  },
  {
   "cell_type": "code",
   "execution_count": 67,
   "metadata": {
    "collapsed": true
   },
   "outputs": [
    {
     "data": {
      "text/plain": [
       "<!DOCTYPE html>\n",
       "\n",
       "<!--[if lt IE 7]> <html lang=\"en-us\" class=\"a-no-js a-lt-ie9 a-lt-ie8 a-lt-ie7\"> <![endif]-->\n",
       "<!--[if IE 7]>    <html lang=\"en-us\" class=\"a-no-js a-lt-ie9 a-lt-ie8\"> <![endif]-->\n",
       "<!--[if IE 8]>    <html lang=\"en-us\" class=\"a-no-js a-lt-ie9\"> <![endif]-->\n",
       "<!--[if gt IE 8]><!-->\n",
       "<html class=\"a-no-js\" lang=\"en-us\"><!--<![endif]--><head>\n",
       "<meta content=\"text/html; charset=utf-8\" http-equiv=\"content-type\"/>\n",
       "<meta charset=\"utf-8\"/>\n",
       "<meta content=\"IE=edge,chrome=1\" http-equiv=\"X-UA-Compatible\"/>\n",
       "<title dir=\"ltr\">Amazon.in</title>\n",
       "<meta content=\"width=device-width\" name=\"viewport\"/>\n",
       "<link href=\"https://images-na.ssl-images-amazon.com/images/G/01/AUIClients/AmazonUI-3c913031596ca78a3768f4e934b1cc02ce238101.secure.min._V1_.css\" rel=\"stylesheet\"/>\n",
       "<script>\n",
       "\n",
       "if (true === true) {\n",
       "    var ue_t0 = (+ new Date()),\n",
       "        ue_csm = window,\n",
       "        ue = { t0: ue_t0, d: function() { return (+new Date() - ue_t0); } },\n",
       "        ue_furl = \"fls-eu.amazon.in\",\n",
       "        ue_mid = \"A21TJRUUN4KGV\",\n",
       "        ue_sid = (document.cookie.match(/session-id=([0-9-]+)/) || [])[1],\n",
       "        ue_sn = \"opfcaptcha.amazon.in\",\n",
       "        ue_id = 'DG3B3TPQG8VT2GYGCHC9';\n",
       "}\n",
       "</script>\n",
       "</head>\n",
       "<body>\n",
       "<!--\n",
       "        To discuss automated access to Amazon data please contact api-services-support@amazon.com.\n",
       "        For information about migrating to our APIs refer to our Marketplace APIs at https://developer.amazonservices.in/ref=rm_c_sv, or our Product Advertising API at https://affiliate-program.amazon.in/gp/advertising/api/detail/main.html/ref=rm_c_ac for advertising use cases.\n",
       "-->\n",
       "<!--\n",
       "Correios.DoNotSend\n",
       "-->\n",
       "<div class=\"a-container a-padding-double-large\" style=\"min-width:350px;padding:44px 0 !important\">\n",
       "<div class=\"a-row a-spacing-double-large\" style=\"width: 350px; margin: 0 auto\">\n",
       "<div class=\"a-row a-spacing-medium a-text-center\"><i class=\"a-icon a-logo\"></i></div>\n",
       "<div class=\"a-box a-alert a-alert-info a-spacing-base\">\n",
       "<div class=\"a-box-inner\">\n",
       "<i class=\"a-icon a-icon-alert\"></i>\n",
       "<h4>Enter the characters you see below</h4>\n",
       "<p class=\"a-last\">Sorry, we just need to make sure you're not a robot. For best results, please make sure your browser is accepting cookies.</p>\n",
       "</div>\n",
       "</div>\n",
       "<div class=\"a-section\">\n",
       "<div class=\"a-box a-color-offset-background\">\n",
       "<div class=\"a-box-inner a-padding-extra-large\">\n",
       "<form action=\"/errors/validateCaptcha\" method=\"get\" name=\"\">\n",
       "<input name=\"amzn\" type=\"hidden\" value=\"qjMbdtvFEl+32kg0jTglHQ==\"/><input name=\"amzn-r\" type=\"hidden\" value=\"/Fire-TV-Stick-Alexa-Voice-Remote-3rd-Gen/product-reviews/B08R6QR863/ref=cm_cr_dp_d_show_all_btm?ie=UTF8&amp;reviewerType=all_reviews\"/>\n",
       "<div class=\"a-row a-spacing-large\">\n",
       "<div class=\"a-box\">\n",
       "<div class=\"a-box-inner\">\n",
       "<h4>Type the characters you see in this image:</h4>\n",
       "<!-- For automated access to price change or offer listing change events,\n",
       "                                             please refer to the MWS Subscription API:\n",
       "                                             https://developer.amazonservices.in/gp/mws/api.html/276-5247872-0590350?ie=UTF8&section=subscriptions&group=subscriptions&version=latest\n",
       "                                        -->\n",
       "<div class=\"a-row a-text-center\">\n",
       "<img src=\"https://images-na.ssl-images-amazon.com/captcha/lqbiackd/Captcha_iolkdlbiyg.jpg\"/>\n",
       "</div>\n",
       "<div class=\"a-row a-spacing-base\">\n",
       "<div class=\"a-row\">\n",
       "<div class=\"a-column a-span6\">\n",
       "</div>\n",
       "<div class=\"a-column a-span6 a-span-last a-text-right\">\n",
       "<a onclick=\"window.location.reload()\">Try different image</a>\n",
       "</div>\n",
       "</div>\n",
       "<input autocapitalize=\"off\" autocomplete=\"off\" autocorrect=\"off\" class=\"a-span12\" id=\"captchacharacters\" name=\"field-keywords\" placeholder=\"Type characters\" spellcheck=\"false\" type=\"text\"/>\n",
       "</div>\n",
       "</div>\n",
       "</div>\n",
       "</div>\n",
       "<div class=\"a-section a-spacing-extra-large\">\n",
       "<div class=\"a-row\">\n",
       "<span class=\"a-button a-button-primary a-span12\">\n",
       "<span class=\"a-button-inner\">\n",
       "<button class=\"a-button-text\" type=\"submit\">Continue shopping</button>\n",
       "</span>\n",
       "</span>\n",
       "</div>\n",
       "</div>\n",
       "</form>\n",
       "</div>\n",
       "</div>\n",
       "</div>\n",
       "</div>\n",
       "<div class=\"a-divider a-divider-section\"><div class=\"a-divider-inner\"></div></div>\n",
       "<div class=\"a-text-center a-spacing-small a-size-mini\">\n",
       "<a href=\"https://www.amazon.in/gp/help/customer/display.html/ref=footer_cou?ie=UTF8&amp;nodeId=200545940\">Conditions of Use &amp; Sale</a>\n",
       "<span class=\"a-letter-space\"></span>\n",
       "<span class=\"a-letter-space\"></span>\n",
       "<span class=\"a-letter-space\"></span>\n",
       "<span class=\"a-letter-space\"></span>\n",
       "<a href=\"https://www.amazon.in/gp/help/customer/display.html/ref=footer_privacy?ie=UTF8&amp;nodeId=200534380\">Privacy Notice</a>\n",
       "</div>\n",
       "<div class=\"a-text-center a-size-mini a-color-secondary\">\n",
       "          © 1996-2015, Amazon.com, Inc. or its affiliates\n",
       "          <script>\n",
       "           if (true === true) {\n",
       "             document.write('<img src=\"https://fls-eu.amaz'+'on.in/'+'1/oc-csi/1/OP/requestId=DG3B3TPQG8VT2GYGCHC9&js=1\" />');\n",
       "           };\n",
       "          </script>\n",
       "<noscript>\n",
       "<img src=\"https://fls-eu.amazon.in/1/oc-csi/1/OP/requestId=DG3B3TPQG8VT2GYGCHC9&amp;js=0\">\n",
       "</img></noscript>\n",
       "</div>\n",
       "</div>\n",
       "<script>\n",
       "    if (true === true) {\n",
       "        var head = document.getElementsByTagName('head')[0],\n",
       "            prefix = \"https://images-eu.ssl-images-amazon.com/images/G/01/csminstrumentation/\",\n",
       "            elem = document.createElement(\"script\");\n",
       "        elem.src = prefix + \"csm-captcha-instrumentation.min.js\";\n",
       "        head.appendChild(elem);\n",
       "\n",
       "        elem = document.createElement(\"script\");\n",
       "        elem.src = prefix + \"rd-script-6d68177fa6061598e9509dc4b5bdd08d.js\";\n",
       "        head.appendChild(elem);\n",
       "    }\n",
       "    </script>\n",
       "</body></html>"
      ]
     },
     "execution_count": 67,
     "metadata": {},
     "output_type": "execute_result"
    }
   ],
   "source": [
    "# reading html file page.content \n",
    "soup = bs(page.content, 'html.parser')\n",
    "soup"
   ]
  },
  {
   "cell_type": "code",
   "execution_count": 68,
   "metadata": {
    "collapsed": true
   },
   "outputs": [
    {
     "name": "stdout",
     "output_type": "stream",
     "text": [
      "<!DOCTYPE html>\n",
      "<!--[if lt IE 7]> <html lang=\"en-us\" class=\"a-no-js a-lt-ie9 a-lt-ie8 a-lt-ie7\"> <![endif]-->\n",
      "<!--[if IE 7]>    <html lang=\"en-us\" class=\"a-no-js a-lt-ie9 a-lt-ie8\"> <![endif]-->\n",
      "<!--[if IE 8]>    <html lang=\"en-us\" class=\"a-no-js a-lt-ie9\"> <![endif]-->\n",
      "<!--[if gt IE 8]><!-->\n",
      "<html class=\"a-no-js\" lang=\"en-us\">\n",
      " <!--<![endif]-->\n",
      " <head>\n",
      "  <meta content=\"text/html; charset=utf-8\" http-equiv=\"content-type\"/>\n",
      "  <meta charset=\"utf-8\"/>\n",
      "  <meta content=\"IE=edge,chrome=1\" http-equiv=\"X-UA-Compatible\"/>\n",
      "  <title dir=\"ltr\">\n",
      "   Amazon.in\n",
      "  </title>\n",
      "  <meta content=\"width=device-width\" name=\"viewport\"/>\n",
      "  <link href=\"https://images-na.ssl-images-amazon.com/images/G/01/AUIClients/AmazonUI-3c913031596ca78a3768f4e934b1cc02ce238101.secure.min._V1_.css\" rel=\"stylesheet\"/>\n",
      "  <script>\n",
      "   if (true === true) {\n",
      "    var ue_t0 = (+ new Date()),\n",
      "        ue_csm = window,\n",
      "        ue = { t0: ue_t0, d: function() { return (+new Date() - ue_t0); } },\n",
      "        ue_furl = \"fls-eu.amazon.in\",\n",
      "        ue_mid = \"A21TJRUUN4KGV\",\n",
      "        ue_sid = (document.cookie.match(/session-id=([0-9-]+)/) || [])[1],\n",
      "        ue_sn = \"opfcaptcha.amazon.in\",\n",
      "        ue_id = 'DG3B3TPQG8VT2GYGCHC9';\n",
      "}\n",
      "  </script>\n",
      " </head>\n",
      " <body>\n",
      "  <!--\n",
      "        To discuss automated access to Amazon data please contact api-services-support@amazon.com.\n",
      "        For information about migrating to our APIs refer to our Marketplace APIs at https://developer.amazonservices.in/ref=rm_c_sv, or our Product Advertising API at https://affiliate-program.amazon.in/gp/advertising/api/detail/main.html/ref=rm_c_ac for advertising use cases.\n",
      "-->\n",
      "  <!--\n",
      "Correios.DoNotSend\n",
      "-->\n",
      "  <div class=\"a-container a-padding-double-large\" style=\"min-width:350px;padding:44px 0 !important\">\n",
      "   <div class=\"a-row a-spacing-double-large\" style=\"width: 350px; margin: 0 auto\">\n",
      "    <div class=\"a-row a-spacing-medium a-text-center\">\n",
      "     <i class=\"a-icon a-logo\">\n",
      "     </i>\n",
      "    </div>\n",
      "    <div class=\"a-box a-alert a-alert-info a-spacing-base\">\n",
      "     <div class=\"a-box-inner\">\n",
      "      <i class=\"a-icon a-icon-alert\">\n",
      "      </i>\n",
      "      <h4>\n",
      "       Enter the characters you see below\n",
      "      </h4>\n",
      "      <p class=\"a-last\">\n",
      "       Sorry, we just need to make sure you're not a robot. For best results, please make sure your browser is accepting cookies.\n",
      "      </p>\n",
      "     </div>\n",
      "    </div>\n",
      "    <div class=\"a-section\">\n",
      "     <div class=\"a-box a-color-offset-background\">\n",
      "      <div class=\"a-box-inner a-padding-extra-large\">\n",
      "       <form action=\"/errors/validateCaptcha\" method=\"get\" name=\"\">\n",
      "        <input name=\"amzn\" type=\"hidden\" value=\"qjMbdtvFEl+32kg0jTglHQ==\"/>\n",
      "        <input name=\"amzn-r\" type=\"hidden\" value=\"/Fire-TV-Stick-Alexa-Voice-Remote-3rd-Gen/product-reviews/B08R6QR863/ref=cm_cr_dp_d_show_all_btm?ie=UTF8&amp;reviewerType=all_reviews\"/>\n",
      "        <div class=\"a-row a-spacing-large\">\n",
      "         <div class=\"a-box\">\n",
      "          <div class=\"a-box-inner\">\n",
      "           <h4>\n",
      "            Type the characters you see in this image:\n",
      "           </h4>\n",
      "           <!-- For automated access to price change or offer listing change events,\n",
      "                                             please refer to the MWS Subscription API:\n",
      "                                             https://developer.amazonservices.in/gp/mws/api.html/276-5247872-0590350?ie=UTF8&section=subscriptions&group=subscriptions&version=latest\n",
      "                                        -->\n",
      "           <div class=\"a-row a-text-center\">\n",
      "            <img src=\"https://images-na.ssl-images-amazon.com/captcha/lqbiackd/Captcha_iolkdlbiyg.jpg\"/>\n",
      "           </div>\n",
      "           <div class=\"a-row a-spacing-base\">\n",
      "            <div class=\"a-row\">\n",
      "             <div class=\"a-column a-span6\">\n",
      "             </div>\n",
      "             <div class=\"a-column a-span6 a-span-last a-text-right\">\n",
      "              <a onclick=\"window.location.reload()\">\n",
      "               Try different image\n",
      "              </a>\n",
      "             </div>\n",
      "            </div>\n",
      "            <input autocapitalize=\"off\" autocomplete=\"off\" autocorrect=\"off\" class=\"a-span12\" id=\"captchacharacters\" name=\"field-keywords\" placeholder=\"Type characters\" spellcheck=\"false\" type=\"text\"/>\n",
      "           </div>\n",
      "          </div>\n",
      "         </div>\n",
      "        </div>\n",
      "        <div class=\"a-section a-spacing-extra-large\">\n",
      "         <div class=\"a-row\">\n",
      "          <span class=\"a-button a-button-primary a-span12\">\n",
      "           <span class=\"a-button-inner\">\n",
      "            <button class=\"a-button-text\" type=\"submit\">\n",
      "             Continue shopping\n",
      "            </button>\n",
      "           </span>\n",
      "          </span>\n",
      "         </div>\n",
      "        </div>\n",
      "       </form>\n",
      "      </div>\n",
      "     </div>\n",
      "    </div>\n",
      "   </div>\n",
      "   <div class=\"a-divider a-divider-section\">\n",
      "    <div class=\"a-divider-inner\">\n",
      "    </div>\n",
      "   </div>\n",
      "   <div class=\"a-text-center a-spacing-small a-size-mini\">\n",
      "    <a href=\"https://www.amazon.in/gp/help/customer/display.html/ref=footer_cou?ie=UTF8&amp;nodeId=200545940\">\n",
      "     Conditions of Use &amp; Sale\n",
      "    </a>\n",
      "    <span class=\"a-letter-space\">\n",
      "    </span>\n",
      "    <span class=\"a-letter-space\">\n",
      "    </span>\n",
      "    <span class=\"a-letter-space\">\n",
      "    </span>\n",
      "    <span class=\"a-letter-space\">\n",
      "    </span>\n",
      "    <a href=\"https://www.amazon.in/gp/help/customer/display.html/ref=footer_privacy?ie=UTF8&amp;nodeId=200534380\">\n",
      "     Privacy Notice\n",
      "    </a>\n",
      "   </div>\n",
      "   <div class=\"a-text-center a-size-mini a-color-secondary\">\n",
      "    © 1996-2015, Amazon.com, Inc. or its affiliates\n",
      "    <script>\n",
      "     if (true === true) {\n",
      "             document.write('<img src=\"https://fls-eu.amaz'+'on.in/'+'1/oc-csi/1/OP/requestId=DG3B3TPQG8VT2GYGCHC9&js=1\" />');\n",
      "           };\n",
      "    </script>\n",
      "    <noscript>\n",
      "     <img src=\"https://fls-eu.amazon.in/1/oc-csi/1/OP/requestId=DG3B3TPQG8VT2GYGCHC9&amp;js=0\">\n",
      "     </img>\n",
      "    </noscript>\n",
      "   </div>\n",
      "  </div>\n",
      "  <script>\n",
      "   if (true === true) {\n",
      "        var head = document.getElementsByTagName('head')[0],\n",
      "            prefix = \"https://images-eu.ssl-images-amazon.com/images/G/01/csminstrumentation/\",\n",
      "            elem = document.createElement(\"script\");\n",
      "        elem.src = prefix + \"csm-captcha-instrumentation.min.js\";\n",
      "        head.appendChild(elem);\n",
      "\n",
      "        elem = document.createElement(\"script\");\n",
      "        elem.src = prefix + \"rd-script-6d68177fa6061598e9509dc4b5bdd08d.js\";\n",
      "        head.appendChild(elem);\n",
      "    }\n",
      "  </script>\n",
      " </body>\n",
      "</html>\n",
      "\n"
     ]
    }
   ],
   "source": [
    "# Prettify() function in beautiful soup will enable to view the html page with how tags are nested in document / page\n",
    "print(soup.prettify())"
   ]
  },
  {
   "cell_type": "code",
   "execution_count": 69,
   "metadata": {},
   "outputs": [
    {
     "data": {
      "text/plain": [
       "[]"
      ]
     },
     "execution_count": 69,
     "metadata": {},
     "output_type": "execute_result"
    }
   ],
   "source": [
    "names = soup.find_all('span', class_ = 'a-profile-name')\n",
    "names"
   ]
  },
  {
   "cell_type": "code",
   "execution_count": 70,
   "metadata": {},
   "outputs": [],
   "source": [
    "# Get the texts from list of names\n",
    "cust_names = []\n",
    "for i in range(len(names)):\n",
    "    cust_names.append(names[i].get_text())"
   ]
  },
  {
   "cell_type": "code",
   "execution_count": 17,
   "metadata": {
    "collapsed": true
   },
   "outputs": [
    {
     "data": {
      "text/plain": [
       "['shanu Kumar',\n",
       " 'Neha',\n",
       " 'Neha',\n",
       " 'Krusshna',\n",
       " 'shanu Kumar',\n",
       " 'Sunny Kumar',\n",
       " 'Amazon Customer',\n",
       " 'Satyapal singh',\n",
       " 'Gurmeet singh',\n",
       " 'Vinay Kumar Gupta',\n",
       " 'ritesh',\n",
       " 'NAZAR']"
      ]
     },
     "execution_count": 17,
     "metadata": {},
     "output_type": "execute_result"
    }
   ],
   "source": [
    "cust_names"
   ]
  },
  {
   "cell_type": "code",
   "execution_count": 18,
   "metadata": {},
   "outputs": [
    {
     "data": {
      "text/plain": [
       "'shanu Kumar'"
      ]
     },
     "execution_count": 18,
     "metadata": {},
     "output_type": "execute_result"
    }
   ],
   "source": [
    "cust_names.pop(0)"
   ]
  },
  {
   "cell_type": "code",
   "execution_count": 19,
   "metadata": {},
   "outputs": [
    {
     "data": {
      "text/plain": [
       "'Neha'"
      ]
     },
     "execution_count": 19,
     "metadata": {},
     "output_type": "execute_result"
    }
   ],
   "source": [
    "cust_names.pop(0)"
   ]
  },
  {
   "cell_type": "code",
   "execution_count": 20,
   "metadata": {
    "collapsed": true
   },
   "outputs": [
    {
     "data": {
      "text/plain": [
       "['Neha',\n",
       " 'Krusshna',\n",
       " 'shanu Kumar',\n",
       " 'Sunny Kumar',\n",
       " 'Amazon Customer',\n",
       " 'Satyapal singh',\n",
       " 'Gurmeet singh',\n",
       " 'Vinay Kumar Gupta',\n",
       " 'ritesh',\n",
       " 'NAZAR']"
      ]
     },
     "execution_count": 20,
     "metadata": {},
     "output_type": "execute_result"
    }
   ],
   "source": [
    "cust_names"
   ]
  },
  {
   "cell_type": "code",
   "execution_count": 24,
   "metadata": {
    "collapsed": true
   },
   "outputs": [
    {
     "data": {
      "text/plain": [
       "[<span class=\"a-size-base review-title a-text-bold\" data-hook=\"review-title\">Solid premium phone from Apple</span>,\n",
       " <span class=\"a-size-base review-title a-text-bold\" data-hook=\"review-title\">Do not buy iphone or expensive product from Amazom</span>,\n",
       " <a class=\"a-size-base a-link-normal review-title a-color-base review-title-content a-text-bold\" data-hook=\"review-title\" href=\"/gp/customer-reviews/R2175DKWOQ16BI?ASIN=B08L8C1NJ3\">\n",
       " <span>Do not buy iphone or expensive product from Amazom</span>\n",
       " </a>,\n",
       " <a class=\"a-size-base a-link-normal review-title a-color-base review-title-content a-text-bold\" data-hook=\"review-title\" href=\"/gp/customer-reviews/R2P0NP0OWNJQFU?ASIN=B08L8C1NJ3\">\n",
       " <span>Don’t buy it from this seller</span>\n",
       " </a>,\n",
       " <a class=\"a-size-base a-link-normal review-title a-color-base review-title-content a-text-bold\" data-hook=\"review-title\" href=\"/gp/customer-reviews/R2XPHII12D9O7Q?ASIN=B08L8C1NJ3\">\n",
       " <span>Solid premium phone from Apple</span>\n",
       " </a>,\n",
       " <a class=\"a-size-base a-link-normal review-title a-color-base review-title-content a-text-bold\" data-hook=\"review-title\" href=\"/gp/customer-reviews/R51EDHN250S9U?ASIN=B08L8C1NJ3\">\n",
       " <span>First Time iPhone User Review :-)</span>\n",
       " </a>,\n",
       " <a class=\"a-size-base a-link-normal review-title a-color-base review-title-content a-text-bold\" data-hook=\"review-title\" href=\"/gp/customer-reviews/R24K8G1ABRUZHM?ASIN=B08L8C1NJ3\">\n",
       " <span>Worst Experience Ever.!</span>\n",
       " </a>,\n",
       " <a class=\"a-size-base a-link-normal review-title a-color-base review-title-content a-text-bold\" data-hook=\"review-title\" href=\"/gp/customer-reviews/R3VGT8XZEFGC9U?ASIN=B08L8C1NJ3\">\n",
       " <span>iPhone 11</span>\n",
       " </a>,\n",
       " <a class=\"a-size-base a-link-normal review-title a-color-base review-title-content a-text-bold\" data-hook=\"review-title\" href=\"/gp/customer-reviews/R36TDFD0HYYYRV?ASIN=B08L8C1NJ3\">\n",
       " <span>Defective Iphone 11</span>\n",
       " </a>,\n",
       " <a class=\"a-size-base a-link-normal review-title a-color-base review-title-content a-text-bold\" data-hook=\"review-title\" href=\"/gp/customer-reviews/R3STQ1DN31XUOG?ASIN=B08L8C1NJ3\">\n",
       " <span>Too much heat on normal use</span>\n",
       " </a>,\n",
       " <a class=\"a-size-base a-link-normal review-title a-color-base review-title-content a-text-bold\" data-hook=\"review-title\" href=\"/gp/customer-reviews/R34ZA1GTNXS1YP?ASIN=B08L8C1NJ3\">\n",
       " <span>not a good product</span>\n",
       " </a>,\n",
       " <a class=\"a-size-base a-link-normal review-title a-color-base review-title-content a-text-bold\" data-hook=\"review-title\" href=\"/gp/customer-reviews/R1H8D4TIBKUUCJ?ASIN=B08L8C1NJ3\">\n",
       " <span>Provided with a defective product</span>\n",
       " </a>]"
      ]
     },
     "execution_count": 24,
     "metadata": {},
     "output_type": "execute_result"
    }
   ],
   "source": [
    "# Title of each review commented 'review-title'\n",
    "review_title = soup.find_all(class_ = 'review-title')\n",
    "review_title"
   ]
  },
  {
   "cell_type": "code",
   "execution_count": 25,
   "metadata": {},
   "outputs": [],
   "source": [
    "# Get the texts from list of titles\n",
    "title = []\n",
    "for i in range(len(names)):\n",
    "    title.append(review_title[i].get_text())"
   ]
  },
  {
   "cell_type": "code",
   "execution_count": 26,
   "metadata": {
    "collapsed": true
   },
   "outputs": [
    {
     "data": {
      "text/plain": [
       "['Solid premium phone from Apple',\n",
       " 'Do not buy iphone or expensive product from Amazom',\n",
       " '\\nDo not buy iphone or expensive product from Amazom\\n',\n",
       " '\\nDon’t buy it from this seller\\n',\n",
       " '\\nSolid premium phone from Apple\\n',\n",
       " '\\nFirst Time iPhone User Review :-)\\n',\n",
       " '\\nWorst Experience Ever.!\\n',\n",
       " '\\niPhone 11\\n',\n",
       " '\\nDefective Iphone 11\\n',\n",
       " '\\nToo much heat on normal use\\n',\n",
       " '\\nnot a good product\\n',\n",
       " '\\nProvided with a defective product\\n']"
      ]
     },
     "execution_count": 26,
     "metadata": {},
     "output_type": "execute_result"
    }
   ],
   "source": [
    "title"
   ]
  },
  {
   "cell_type": "code",
   "execution_count": 28,
   "metadata": {},
   "outputs": [
    {
     "data": {
      "text/plain": [
       "'Do not buy iphone or expensive product from Amazom'"
      ]
     },
     "execution_count": 28,
     "metadata": {},
     "output_type": "execute_result"
    }
   ],
   "source": [
    "title[2].strip('\\n')"
   ]
  },
  {
   "cell_type": "code",
   "execution_count": 29,
   "metadata": {},
   "outputs": [
    {
     "data": {
      "text/plain": [
       "['Solid premium phone from Apple',\n",
       " 'Do not buy iphone or expensive product from Amazom',\n",
       " 'Do not buy iphone or expensive product from Amazom',\n",
       " 'Don’t buy it from this seller',\n",
       " 'Solid premium phone from Apple',\n",
       " 'First Time iPhone User Review :-)',\n",
       " 'Worst Experience Ever.!',\n",
       " 'iPhone 11',\n",
       " 'Defective Iphone 11',\n",
       " 'Too much heat on normal use',\n",
       " 'not a good product',\n",
       " 'Provided with a defective product']"
      ]
     },
     "execution_count": 29,
     "metadata": {},
     "output_type": "execute_result"
    }
   ],
   "source": [
    "review_title = [title.strip('\\n') for title in title]\n",
    "review_title"
   ]
  },
  {
   "cell_type": "code",
   "execution_count": 31,
   "metadata": {},
   "outputs": [
    {
     "data": {
      "text/plain": [
       "'Solid premium phone from Apple'"
      ]
     },
     "execution_count": 31,
     "metadata": {},
     "output_type": "execute_result"
    }
   ],
   "source": [
    "review_title.pop(0)"
   ]
  },
  {
   "cell_type": "code",
   "execution_count": 32,
   "metadata": {},
   "outputs": [
    {
     "data": {
      "text/plain": [
       "'Do not buy iphone or expensive product from Amazom'"
      ]
     },
     "execution_count": 32,
     "metadata": {},
     "output_type": "execute_result"
    }
   ],
   "source": [
    "review_title.pop(0)"
   ]
  },
  {
   "cell_type": "code",
   "execution_count": 34,
   "metadata": {
    "collapsed": true
   },
   "outputs": [
    {
     "data": {
      "text/plain": [
       "[<i class=\"a-icon a-icon-star a-star-5 review-rating\" data-hook=\"review-star-rating-view-point\"><span class=\"a-icon-alt\">5.0 out of 5 stars</span></i>,\n",
       " <i class=\"a-icon a-icon-star a-star-1 review-rating\" data-hook=\"review-star-rating-view-point\"><span class=\"a-icon-alt\">1.0 out of 5 stars</span></i>,\n",
       " <i class=\"a-icon a-icon-star a-star-1 review-rating\" data-hook=\"review-star-rating\"><span class=\"a-icon-alt\">1.0 out of 5 stars</span></i>,\n",
       " <i class=\"a-icon a-icon-star a-star-1 review-rating\" data-hook=\"review-star-rating\"><span class=\"a-icon-alt\">1.0 out of 5 stars</span></i>,\n",
       " <i class=\"a-icon a-icon-star a-star-5 review-rating\" data-hook=\"review-star-rating\"><span class=\"a-icon-alt\">5.0 out of 5 stars</span></i>,\n",
       " <i class=\"a-icon a-icon-star a-star-5 review-rating\" data-hook=\"review-star-rating\"><span class=\"a-icon-alt\">5.0 out of 5 stars</span></i>,\n",
       " <i class=\"a-icon a-icon-star a-star-1 review-rating\" data-hook=\"review-star-rating\"><span class=\"a-icon-alt\">1.0 out of 5 stars</span></i>,\n",
       " <i class=\"a-icon a-icon-star a-star-1 review-rating\" data-hook=\"review-star-rating\"><span class=\"a-icon-alt\">1.0 out of 5 stars</span></i>,\n",
       " <i class=\"a-icon a-icon-star a-star-1 review-rating\" data-hook=\"review-star-rating\"><span class=\"a-icon-alt\">1.0 out of 5 stars</span></i>,\n",
       " <i class=\"a-icon a-icon-star a-star-1 review-rating\" data-hook=\"review-star-rating\"><span class=\"a-icon-alt\">1.0 out of 5 stars</span></i>,\n",
       " <i class=\"a-icon a-icon-star a-star-1 review-rating\" data-hook=\"review-star-rating\"><span class=\"a-icon-alt\">1.0 out of 5 stars</span></i>,\n",
       " <i class=\"a-icon a-icon-star a-star-1 review-rating\" data-hook=\"review-star-rating\"><span class=\"a-icon-alt\">1.0 out of 5 stars</span></i>]"
      ]
     },
     "execution_count": 34,
     "metadata": {},
     "output_type": "execute_result"
    }
   ],
   "source": [
    "# Rating of each review commented on Product\n",
    "rating = soup.find_all(class_ = 'review-rating')\n",
    "rating"
   ]
  },
  {
   "cell_type": "code",
   "execution_count": 37,
   "metadata": {},
   "outputs": [],
   "source": [
    "# Get the texts from list of ratings\n",
    "rating_list = []\n",
    "for i in range(len(rating)):\n",
    "    rating_list.append(rating[i].get_text()[0])"
   ]
  },
  {
   "cell_type": "code",
   "execution_count": 38,
   "metadata": {},
   "outputs": [
    {
     "data": {
      "text/plain": [
       "['5', '1', '1', '1', '5', '5', '1', '1', '1', '1', '1', '1']"
      ]
     },
     "execution_count": 38,
     "metadata": {},
     "output_type": "execute_result"
    }
   ],
   "source": [
    "rating_list"
   ]
  },
  {
   "cell_type": "code",
   "execution_count": 40,
   "metadata": {},
   "outputs": [
    {
     "data": {
      "text/plain": [
       "['1', '1', '5', '5', '1', '1', '1', '1', '1', '1']"
      ]
     },
     "execution_count": 40,
     "metadata": {},
     "output_type": "execute_result"
    }
   ],
   "source": [
    "new_rating_list = rating_list[2:]\n",
    "new_rating_list"
   ]
  },
  {
   "cell_type": "code",
   "execution_count": 42,
   "metadata": {
    "collapsed": true
   },
   "outputs": [
    {
     "data": {
      "text/plain": [
       "[<span class=\"a-size-base review-text review-text-content\" data-hook=\"review-body\">\n",
       " <span>\n",
       "   Please do not buy expensive product like iphone from Amazon, i had very bad exp, the charger cord was missing and had sound quality issues. Amazon initial told charger doesn't come in box and when i challenged it they asked reimburse the cord amount, but i requested a replacement, after some days they called me and informed that they dont take responsibility of missing items, and 10 day replacement policy they dont follow, you can read the email conversation attached  here where i mentioned every thing, i have the call recordings as well. At last they denied the phone replacement and even to provide the missing cord. For any damage or quality issues they said amazon is not responsible.\n",
       " </span>\n",
       " </span>,\n",
       " <span class=\"a-size-base review-text review-text-content\" data-hook=\"review-body\">\n",
       " <span>\n",
       "   Bought the mobile from appario retail ltd. Mobile is heating up within seconds and also camera modes aren’t working properly. Particularly in portrait mode, the stage light and mono options aren’t working properly.  i raised the same to apple customer care they confirmed that its not software issue. But the amazon customer care told me that they need a job card and report from apple service center. The nearest service center is located at 210km from my place, imagine the amount of strain and how much its going to cost. Before you buy anything from this seller just google it and u can find numerous complaints on this seller. What ever they sell u will find defective products only. There is a thread on this sellers dubious deals in quora. Please be safe and don’t regret after.\n",
       " </span>\n",
       " </span>,\n",
       " <span class=\"a-size-base review-text review-text-content\" data-hook=\"review-body\">\n",
       " <span>\n",
       "   Awesome Phone. Nice upgrade from iPhone 6s to iPhone 11. Love this beautiful phone.\n",
       " </span>\n",
       " </span>,\n",
       " <span class=\"a-size-base review-text review-text-content\" data-hook=\"review-body\">\n",
       " <span>\n",
       "   The iPhone design is good and the camera quality is awesome. You can also take pictures in wide angles and the image quality is awesome.<br><br>Phone got delivered at 9am on 28th September (I pre-order it on 27th September at 3am in the morning), I got my phone before the delivery date with nice and secured packaging.<br><br/>The overall look of the phone is premium and face unlocking is fast. I grabbed this phone with HDFC 6K Instant Discount Offer at Just 64K (128 GB Variant).<br/><br/>Cons:<br/><br/>1. The phone is great but if you use \"in the box\" accessories like \"EarPods with Lighting Connector\", then you might feel a little pain in your ears.<br/><br/>2. The phone comes with 5W charger which charge your phone slowly. I recommend you to prefer using 18W charger.<br/><br/>Well, I've never tried the iPhone before and I'm using this for the first time (Yes, I'm already using other apple products like MacBook Air &amp; Pro).<br/><br/>But the product is great and I'm just lovin it.\n",
       " </br></br></br></span>\n",
       " </span>,\n",
       " <span class=\"a-size-base review-text review-text-content\" data-hook=\"review-body\">\n",
       " <span>\n",
       "   My Phone is Producing Too Much Heat Even Didn’t Put Sim , Never used more than Half an hour And It’s producing too much heat.. Totally Disappointed With Amazon. Now they are saying To Go Icare services( After Calling to customer care several times) Amazon can’t do anything For this . Worst Experience with Amazon. No one would like to repair new phone 😢 Better Go for shop To buy apple products .\n",
       " </span>\n",
       " </span>,\n",
       " <span class=\"a-size-base review-text review-text-content\" data-hook=\"review-body\">\n",
       " <span>\n",
       "   Defective product,got heat up within 5 minutes of starting. Need to return  fast<br/>Very very bad experience\n",
       " </span>\n",
       " </span>,\n",
       " <span class=\"a-size-base review-text review-text-content\" data-hook=\"review-body\">\n",
       " <span>\n",
       "   The product i got was defective . The face id is not working and the back camera is also not working. There is a lot of hassle to get it exchanged. The apple service centre is also not of much help as the product is from amazon. Please buy phones from apple store to get the right product .\n",
       " </span>\n",
       " </span>,\n",
       " <span class=\"a-size-base review-text review-text-content\" data-hook=\"review-body\">\n",
       " <span>\n",
       "   Just after i switched it on, it started producing so much heating even i cant hold it by hand. Later i tried YouTube, game, normal browsing and it has the same excessive heating issue. Seems defective piece. I need refund asap. I have not paid 70k for a defective phone. I am feeling like got scammed.<br/><br/>Edit - I returned this phone and got refund from amazon and bought the same from flipkart ..and it got no issues .\n",
       " </span>\n",
       " </span>,\n",
       " <span class=\"a-size-base review-text review-text-content\" data-hook=\"review-body\">\n",
       " <span>\n",
       "   hello<br/>Please dont take any apple products online , especially if the seller is Appario Retail Private Ltd.<br/>I bought iphone 11 last month and suudenly today (17/08/2020) the phone got switched off and not getting switched on again.It was neither damaged nor it got wet in rains . I am very furious because i thought its an apple product and product will be robust.  My first impression on apple products is worst becuase of online reseller.<br/>This online reseller dont send the correct product instead they will send defective pieces or old piesces.<br/>My loss is 60000 rs. These people are worst and i request other guys not to take apple products from online or from the above mentioned reseller.\n",
       " </span>\n",
       " </span>,\n",
       " <span class=\"a-size-base review-text review-text-content\" data-hook=\"review-body\">\n",
       " <span>\n",
       "   Provided with defective product .<br/>Struggling for replacement since then .<br/>There are so many hidden terms and conditions.<br/>It's my last order on Amazon\n",
       " </span>\n",
       " </span>]"
      ]
     },
     "execution_count": 42,
     "metadata": {},
     "output_type": "execute_result"
    }
   ],
   "source": [
    "# Review commented on the product\n",
    "review = soup.find_all('span', {'data-hook':'review-body'})\n",
    "review"
   ]
  },
  {
   "cell_type": "code",
   "execution_count": 43,
   "metadata": {},
   "outputs": [],
   "source": [
    "# Get the reviews list\n",
    "review_list = []\n",
    "for i in range(len(review)):\n",
    "    review_list.append(review[i].get_text())"
   ]
  },
  {
   "cell_type": "code",
   "execution_count": 45,
   "metadata": {
    "collapsed": true
   },
   "outputs": [
    {
     "data": {
      "text/plain": [
       "[\"\\n\\n  Please do not buy expensive product like iphone from Amazon, i had very bad exp, the charger cord was missing and had sound quality issues. Amazon initial told charger doesn't come in box and when i challenged it they asked reimburse the cord amount, but i requested a replacement, after some days they called me and informed that they dont take responsibility of missing items, and 10 day replacement policy they dont follow, you can read the email conversation attached  here where i mentioned every thing, i have the call recordings as well. At last they denied the phone replacement and even to provide the missing cord. For any damage or quality issues they said amazon is not responsible.\\n\\n\",\n",
       " '\\n\\n  Bought the mobile from appario retail ltd. Mobile is heating up within seconds and also camera modes aren’t working properly. Particularly in portrait mode, the stage light and mono options aren’t working properly.  i raised the same to apple customer care they confirmed that its not software issue. But the amazon customer care told me that they need a job card and report from apple service center. The nearest service center is located at 210km from my place, imagine the amount of strain and how much its going to cost. Before you buy anything from this seller just google it and u can find numerous complaints on this seller. What ever they sell u will find defective products only. There is a thread on this sellers dubious deals in quora. Please be safe and don’t regret after.\\n\\n',\n",
       " '\\n\\n  Awesome Phone. Nice upgrade from iPhone 6s to iPhone 11. Love this beautiful phone.\\n\\n',\n",
       " '\\n\\n  The iPhone design is good and the camera quality is awesome. You can also take pictures in wide angles and the image quality is awesome.Phone got delivered at 9am on 28th September (I pre-order it on 27th September at 3am in the morning), I got my phone before the delivery date with nice and secured packaging.The overall look of the phone is premium and face unlocking is fast. I grabbed this phone with HDFC 6K Instant Discount Offer at Just 64K (128 GB Variant).Cons:1. The phone is great but if you use \"in the box\" accessories like \"EarPods with Lighting Connector\", then you might feel a little pain in your ears.2. The phone comes with 5W charger which charge your phone slowly. I recommend you to prefer using 18W charger.Well, I\\'ve never tried the iPhone before and I\\'m using this for the first time (Yes, I\\'m already using other apple products like MacBook Air & Pro).But the product is great and I\\'m just lovin it.\\n\\n',\n",
       " '\\n\\n  My Phone is Producing Too Much Heat Even Didn’t Put Sim , Never used more than Half an hour And It’s producing too much heat.. Totally Disappointed With Amazon. Now they are saying To Go Icare services( After Calling to customer care several times) Amazon can’t do anything For this . Worst Experience with Amazon. No one would like to repair new phone 😢 Better Go for shop To buy apple products .\\n\\n',\n",
       " '\\n\\n  Defective product,got heat up within 5 minutes of starting. Need to return  fastVery very bad experience\\n\\n',\n",
       " '\\n\\n  The product i got was defective . The face id is not working and the back camera is also not working. There is a lot of hassle to get it exchanged. The apple service centre is also not of much help as the product is from amazon. Please buy phones from apple store to get the right product .\\n\\n',\n",
       " '\\n\\n  Just after i switched it on, it started producing so much heating even i cant hold it by hand. Later i tried YouTube, game, normal browsing and it has the same excessive heating issue. Seems defective piece. I need refund asap. I have not paid 70k for a defective phone. I am feeling like got scammed.Edit - I returned this phone and got refund from amazon and bought the same from flipkart ..and it got no issues .\\n\\n',\n",
       " '\\n\\n  helloPlease dont take any apple products online , especially if the seller is Appario Retail Private Ltd.I bought iphone 11 last month and suudenly today (17/08/2020) the phone got switched off and not getting switched on again.It was neither damaged nor it got wet in rains . I am very furious because i thought its an apple product and product will be robust.  My first impression on apple products is worst becuase of online reseller.This online reseller dont send the correct product instead they will send defective pieces or old piesces.My loss is 60000 rs. These people are worst and i request other guys not to take apple products from online or from the above mentioned reseller.\\n\\n',\n",
       " \"\\n\\n  Provided with defective product .Struggling for replacement since then .There are so many hidden terms and conditions.It's my last order on Amazon\\n\\n\"]"
      ]
     },
     "execution_count": 45,
     "metadata": {},
     "output_type": "execute_result"
    }
   ],
   "source": [
    "review_list"
   ]
  },
  {
   "cell_type": "code",
   "execution_count": 47,
   "metadata": {
    "collapsed": true
   },
   "outputs": [
    {
     "data": {
      "text/plain": [
       "[\"Please do not buy expensive product like iphone from Amazon, i had very bad exp, the charger cord was missing and had sound quality issues. Amazon initial told charger doesn't come in box and when i challenged it they asked reimburse the cord amount, but i requested a replacement, after some days they called me and informed that they dont take responsibility of missing items, and 10 day replacement policy they dont follow, you can read the email conversation attached  here where i mentioned every thing, i have the call recordings as well. At last they denied the phone replacement and even to provide the missing cord. For any damage or quality issues they said amazon is not responsible.\",\n",
       " 'Bought the mobile from appario retail ltd. Mobile is heating up within seconds and also camera modes aren’t working properly. Particularly in portrait mode, the stage light and mono options aren’t working properly.  i raised the same to apple customer care they confirmed that its not software issue. But the amazon customer care told me that they need a job card and report from apple service center. The nearest service center is located at 210km from my place, imagine the amount of strain and how much its going to cost. Before you buy anything from this seller just google it and u can find numerous complaints on this seller. What ever they sell u will find defective products only. There is a thread on this sellers dubious deals in quora. Please be safe and don’t regret after.',\n",
       " 'Awesome Phone. Nice upgrade from iPhone 6s to iPhone 11. Love this beautiful phone.',\n",
       " 'The iPhone design is good and the camera quality is awesome. You can also take pictures in wide angles and the image quality is awesome.Phone got delivered at 9am on 28th September (I pre-order it on 27th September at 3am in the morning), I got my phone before the delivery date with nice and secured packaging.The overall look of the phone is premium and face unlocking is fast. I grabbed this phone with HDFC 6K Instant Discount Offer at Just 64K (128 GB Variant).Cons:1. The phone is great but if you use \"in the box\" accessories like \"EarPods with Lighting Connector\", then you might feel a little pain in your ears.2. The phone comes with 5W charger which charge your phone slowly. I recommend you to prefer using 18W charger.Well, I\\'ve never tried the iPhone before and I\\'m using this for the first time (Yes, I\\'m already using other apple products like MacBook Air & Pro).But the product is great and I\\'m just lovin it.',\n",
       " 'My Phone is Producing Too Much Heat Even Didn’t Put Sim , Never used more than Half an hour And It’s producing too much heat.. Totally Disappointed With Amazon. Now they are saying To Go Icare services( After Calling to customer care several times) Amazon can’t do anything For this . Worst Experience with Amazon. No one would like to repair new phone 😢 Better Go for shop To buy apple products .',\n",
       " 'Defective product,got heat up within 5 minutes of starting. Need to return  fastVery very bad experience',\n",
       " 'The product i got was defective . The face id is not working and the back camera is also not working. There is a lot of hassle to get it exchanged. The apple service centre is also not of much help as the product is from amazon. Please buy phones from apple store to get the right product .',\n",
       " 'Just after i switched it on, it started producing so much heating even i cant hold it by hand. Later i tried YouTube, game, normal browsing and it has the same excessive heating issue. Seems defective piece. I need refund asap. I have not paid 70k for a defective phone. I am feeling like got scammed.Edit - I returned this phone and got refund from amazon and bought the same from flipkart ..and it got no issues .',\n",
       " 'helloPlease dont take any apple products online , especially if the seller is Appario Retail Private Ltd.I bought iphone 11 last month and suudenly today (17/08/2020) the phone got switched off and not getting switched on again.It was neither damaged nor it got wet in rains . I am very furious because i thought its an apple product and product will be robust.  My first impression on apple products is worst becuase of online reseller.This online reseller dont send the correct product instead they will send defective pieces or old piesces.My loss is 60000 rs. These people are worst and i request other guys not to take apple products from online or from the above mentioned reseller.',\n",
       " \"Provided with defective product .Struggling for replacement since then .There are so many hidden terms and conditions.It's my last order on Amazon\"]"
      ]
     },
     "execution_count": 47,
     "metadata": {},
     "output_type": "execute_result"
    }
   ],
   "source": [
    "review_body = [review_list.strip(' \\n') for review_list in review_list]\n",
    "review_body"
   ]
  },
  {
   "cell_type": "code",
   "execution_count": 48,
   "metadata": {},
   "outputs": [],
   "source": [
    "# Concatinate Lists\n",
    "import pandas as pd\n",
    "customer_reviews = pd.DataFrame()\n",
    "\n",
    "customer_reviews['Customer Names'] = cust_names"
   ]
  },
  {
   "cell_type": "code",
   "execution_count": 49,
   "metadata": {
    "collapsed": true
   },
   "outputs": [
    {
     "data": {
      "text/html": [
       "<div>\n",
       "<style scoped>\n",
       "    .dataframe tbody tr th:only-of-type {\n",
       "        vertical-align: middle;\n",
       "    }\n",
       "\n",
       "    .dataframe tbody tr th {\n",
       "        vertical-align: top;\n",
       "    }\n",
       "\n",
       "    .dataframe thead th {\n",
       "        text-align: right;\n",
       "    }\n",
       "</style>\n",
       "<table border=\"1\" class=\"dataframe\">\n",
       "  <thead>\n",
       "    <tr style=\"text-align: right;\">\n",
       "      <th></th>\n",
       "      <th>Customer Names</th>\n",
       "    </tr>\n",
       "  </thead>\n",
       "  <tbody>\n",
       "    <tr>\n",
       "      <th>0</th>\n",
       "      <td>Neha</td>\n",
       "    </tr>\n",
       "    <tr>\n",
       "      <th>1</th>\n",
       "      <td>Krusshna</td>\n",
       "    </tr>\n",
       "    <tr>\n",
       "      <th>2</th>\n",
       "      <td>shanu Kumar</td>\n",
       "    </tr>\n",
       "    <tr>\n",
       "      <th>3</th>\n",
       "      <td>Sunny Kumar</td>\n",
       "    </tr>\n",
       "    <tr>\n",
       "      <th>4</th>\n",
       "      <td>Amazon Customer</td>\n",
       "    </tr>\n",
       "    <tr>\n",
       "      <th>5</th>\n",
       "      <td>Satyapal singh</td>\n",
       "    </tr>\n",
       "    <tr>\n",
       "      <th>6</th>\n",
       "      <td>Gurmeet singh</td>\n",
       "    </tr>\n",
       "    <tr>\n",
       "      <th>7</th>\n",
       "      <td>Vinay Kumar Gupta</td>\n",
       "    </tr>\n",
       "    <tr>\n",
       "      <th>8</th>\n",
       "      <td>ritesh</td>\n",
       "    </tr>\n",
       "    <tr>\n",
       "      <th>9</th>\n",
       "      <td>NAZAR</td>\n",
       "    </tr>\n",
       "  </tbody>\n",
       "</table>\n",
       "</div>"
      ],
      "text/plain": [
       "      Customer Names\n",
       "0               Neha\n",
       "1           Krusshna\n",
       "2        shanu Kumar\n",
       "3        Sunny Kumar\n",
       "4    Amazon Customer\n",
       "5     Satyapal singh\n",
       "6      Gurmeet singh\n",
       "7  Vinay Kumar Gupta\n",
       "8             ritesh\n",
       "9              NAZAR"
      ]
     },
     "execution_count": 49,
     "metadata": {},
     "output_type": "execute_result"
    }
   ],
   "source": [
    "customer_reviews"
   ]
  },
  {
   "cell_type": "code",
   "execution_count": 50,
   "metadata": {},
   "outputs": [],
   "source": [
    "customer_reviews['Review Title'] = review_title\n",
    "customer_reviews['Rating'] = new_rating_list\n",
    "customer_reviews['Review'] = review_body"
   ]
  },
  {
   "cell_type": "code",
   "execution_count": 51,
   "metadata": {},
   "outputs": [
    {
     "data": {
      "text/html": [
       "<div>\n",
       "<style scoped>\n",
       "    .dataframe tbody tr th:only-of-type {\n",
       "        vertical-align: middle;\n",
       "    }\n",
       "\n",
       "    .dataframe tbody tr th {\n",
       "        vertical-align: top;\n",
       "    }\n",
       "\n",
       "    .dataframe thead th {\n",
       "        text-align: right;\n",
       "    }\n",
       "</style>\n",
       "<table border=\"1\" class=\"dataframe\">\n",
       "  <thead>\n",
       "    <tr style=\"text-align: right;\">\n",
       "      <th></th>\n",
       "      <th>Customer Names</th>\n",
       "      <th>Review Title</th>\n",
       "      <th>Rating</th>\n",
       "      <th>Review</th>\n",
       "    </tr>\n",
       "  </thead>\n",
       "  <tbody>\n",
       "    <tr>\n",
       "      <th>0</th>\n",
       "      <td>Neha</td>\n",
       "      <td>Do not buy iphone or expensive product from Am...</td>\n",
       "      <td>1</td>\n",
       "      <td>Please do not buy expensive product like iphon...</td>\n",
       "    </tr>\n",
       "    <tr>\n",
       "      <th>1</th>\n",
       "      <td>Krusshna</td>\n",
       "      <td>Don’t buy it from this seller</td>\n",
       "      <td>1</td>\n",
       "      <td>Bought the mobile from appario retail ltd. Mob...</td>\n",
       "    </tr>\n",
       "    <tr>\n",
       "      <th>2</th>\n",
       "      <td>shanu Kumar</td>\n",
       "      <td>Solid premium phone from Apple</td>\n",
       "      <td>5</td>\n",
       "      <td>Awesome Phone. Nice upgrade from iPhone 6s to ...</td>\n",
       "    </tr>\n",
       "    <tr>\n",
       "      <th>3</th>\n",
       "      <td>Sunny Kumar</td>\n",
       "      <td>First Time iPhone User Review :-)</td>\n",
       "      <td>5</td>\n",
       "      <td>The iPhone design is good and the camera quali...</td>\n",
       "    </tr>\n",
       "    <tr>\n",
       "      <th>4</th>\n",
       "      <td>Amazon Customer</td>\n",
       "      <td>Worst Experience Ever.!</td>\n",
       "      <td>1</td>\n",
       "      <td>My Phone is Producing Too Much Heat Even Didn’...</td>\n",
       "    </tr>\n",
       "    <tr>\n",
       "      <th>5</th>\n",
       "      <td>Satyapal singh</td>\n",
       "      <td>iPhone 11</td>\n",
       "      <td>1</td>\n",
       "      <td>Defective product,got heat up within 5 minutes...</td>\n",
       "    </tr>\n",
       "    <tr>\n",
       "      <th>6</th>\n",
       "      <td>Gurmeet singh</td>\n",
       "      <td>Defective Iphone 11</td>\n",
       "      <td>1</td>\n",
       "      <td>The product i got was defective . The face id ...</td>\n",
       "    </tr>\n",
       "    <tr>\n",
       "      <th>7</th>\n",
       "      <td>Vinay Kumar Gupta</td>\n",
       "      <td>Too much heat on normal use</td>\n",
       "      <td>1</td>\n",
       "      <td>Just after i switched it on, it started produc...</td>\n",
       "    </tr>\n",
       "    <tr>\n",
       "      <th>8</th>\n",
       "      <td>ritesh</td>\n",
       "      <td>not a good product</td>\n",
       "      <td>1</td>\n",
       "      <td>helloPlease dont take any apple products onlin...</td>\n",
       "    </tr>\n",
       "    <tr>\n",
       "      <th>9</th>\n",
       "      <td>NAZAR</td>\n",
       "      <td>Provided with a defective product</td>\n",
       "      <td>1</td>\n",
       "      <td>Provided with defective product .Struggling fo...</td>\n",
       "    </tr>\n",
       "  </tbody>\n",
       "</table>\n",
       "</div>"
      ],
      "text/plain": [
       "      Customer Names                                       Review Title  \\\n",
       "0               Neha  Do not buy iphone or expensive product from Am...   \n",
       "1           Krusshna                      Don’t buy it from this seller   \n",
       "2        shanu Kumar                     Solid premium phone from Apple   \n",
       "3        Sunny Kumar                  First Time iPhone User Review :-)   \n",
       "4    Amazon Customer                            Worst Experience Ever.!   \n",
       "5     Satyapal singh                                          iPhone 11   \n",
       "6      Gurmeet singh                                Defective Iphone 11   \n",
       "7  Vinay Kumar Gupta                        Too much heat on normal use   \n",
       "8             ritesh                                 not a good product   \n",
       "9              NAZAR                  Provided with a defective product   \n",
       "\n",
       "  Rating                                             Review  \n",
       "0      1  Please do not buy expensive product like iphon...  \n",
       "1      1  Bought the mobile from appario retail ltd. Mob...  \n",
       "2      5  Awesome Phone. Nice upgrade from iPhone 6s to ...  \n",
       "3      5  The iPhone design is good and the camera quali...  \n",
       "4      1  My Phone is Producing Too Much Heat Even Didn’...  \n",
       "5      1  Defective product,got heat up within 5 minutes...  \n",
       "6      1  The product i got was defective . The face id ...  \n",
       "7      1  Just after i switched it on, it started produc...  \n",
       "8      1  helloPlease dont take any apple products onlin...  \n",
       "9      1  Provided with defective product .Struggling fo...  "
      ]
     },
     "execution_count": 51,
     "metadata": {},
     "output_type": "execute_result"
    }
   ],
   "source": [
    "customer_reviews"
   ]
  },
  {
   "cell_type": "code",
   "execution_count": null,
   "metadata": {},
   "outputs": [],
   "source": []
  }
 ],
 "metadata": {
  "kernelspec": {
   "display_name": "Python 3",
   "language": "python",
   "name": "python3"
  },
  "language_info": {
   "codemirror_mode": {
    "name": "ipython",
    "version": 3
   },
   "file_extension": ".py",
   "mimetype": "text/x-python",
   "name": "python",
   "nbconvert_exporter": "python",
   "pygments_lexer": "ipython3",
   "version": "3.8.5"
  }
 },
 "nbformat": 4,
 "nbformat_minor": 4
}
